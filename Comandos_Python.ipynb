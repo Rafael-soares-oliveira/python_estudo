{
 "cells": [
  {
   "attachments": {},
   "cell_type": "markdown",
   "metadata": {},
   "source": [
    "## Python"
   ]
  },
  {
   "attachments": {},
   "cell_type": "markdown",
   "metadata": {},
   "source": [
    "Linguagem de programação de alto nível e orientado por objetos."
   ]
  },
  {
   "cell_type": "markdown",
   "metadata": {},
   "source": [
    "## Truthy e Falsy"
   ]
  },
  {
   "cell_type": "code",
   "execution_count": null,
   "metadata": {},
   "outputs": [],
   "source": [
    "# Valores Truthy e Falsy, Tipos Mutáveis e Imutáveis\n",
    "# Mutáveis [] {} set()\n",
    "# Imutáveis () \"\" 0 0.0 None False range(0, 10)\n",
    "lista = []\n",
    "dicionario = {}\n",
    "conjunto = set()\n",
    "tupla = ()\n",
    "string = ''\n",
    "inteito = 0\n",
    "flutuante = 0.0\n",
    "nada = None\n",
    "falso = False\n",
    "intervalo = range(0)\n",
    "\n",
    "\n",
    "def falsy(valor):\n",
    "    return 'falsy'if not valor else 'truthy'\n",
    "\n",
    "\n",
    "print(f'TESTE', falsy('TESTE'))\n",
    "print(f'{lista=}', falsy(lista))\n",
    "print(f'{dicionario=}', falsy(dicionario))\n",
    "print(f'{conjunto=}', falsy(conjunto))\n",
    "print(f'{tupla=}', falsy(tupla))\n",
    "print(f'{string=}', falsy(string))\n",
    "print(f'{inteito=}', falsy(inteito))\n",
    "print(f'{flutuante=}', falsy(flutuante))\n",
    "print(f'{nada=}', falsy(nada))\n",
    "print(f'{falso=}', falsy(falso))\n",
    "print(f'{intervalo=}', falsy(intervalo))"
   ]
  },
  {
   "cell_type": "markdown",
   "metadata": {},
   "source": [
    "## dir, hasattr e getattr"
   ]
  },
  {
   "cell_type": "code",
   "execution_count": 1,
   "metadata": {},
   "outputs": [
    {
     "name": "stdout",
     "output_type": "stream",
     "text": [
      "LUIZ\n"
     ]
    }
   ],
   "source": [
    "string = 'Luiz'\n",
    "if hasattr(string,'upper'):\n",
    "    print(string.upper())"
   ]
  },
  {
   "cell_type": "code",
   "execution_count": 2,
   "metadata": {},
   "outputs": [
    {
     "name": "stdout",
     "output_type": "stream",
     "text": [
      "Não existe upper\n"
     ]
    }
   ],
   "source": [
    "numero = 1\n",
    "if hasattr(numero,'upper'):\n",
    "    print(string.upper())\n",
    "else:\n",
    "    print(\"Não existe upper\")"
   ]
  },
  {
   "cell_type": "code",
   "execution_count": 3,
   "metadata": {},
   "outputs": [
    {
     "name": "stdout",
     "output_type": "stream",
     "text": [
      "Existe upper\n",
      "LUIZ\n"
     ]
    }
   ],
   "source": [
    "string = 'Luiz'\n",
    "metodo = 'upper'\n",
    "\n",
    "if hasattr(string, metodo):\n",
    "    print('Existe upper')\n",
    "    print(getattr(string,metodo)())"
   ]
  },
  {
   "cell_type": "markdown",
   "metadata": {},
   "source": [
    "## Generator expression, Iterables e Iterators"
   ]
  },
  {
   "cell_type": "code",
   "execution_count": null,
   "metadata": {},
   "outputs": [],
   "source": [
    "iterable = ['Eu','Tenho','__iter__']\n",
    "iterator = iter(iterable)\n",
    "print(next(iterator)) # muda para o próximo a cada iteração até não haver mais\n",
    "print(next(iterator))\n",
    "print(next(iterator))"
   ]
  },
  {
   "cell_type": "code",
   "execution_count": null,
   "metadata": {},
   "outputs": [],
   "source": [
    "import sys\n",
    "lista = [n for n in range(1000)] # armazena na memória\n",
    "generator = (n for n in range(1000)) # não armazena todos os números na memória\n",
    "print(sys.getsizeof(lista)) # tamanho da lista em bytes\n",
    "print(sys.getsizeof(generator)) # tamanho da lista em bytes. Ocupa bem menos memória"
   ]
  },
  {
   "cell_type": "code",
   "execution_count": null,
   "metadata": {},
   "outputs": [],
   "source": [
    "def generator(n=0):\n",
    "    yield 1 # irá exibir este valor a cada iteração\n",
    "    yield 2\n",
    "    yield 'ultima'\n",
    "    return 'Acabou' # Quando chegar neste valor irá encerrar\n",
    "    \n",
    "gen = generator(n=0)\n",
    "for n in gen:\n",
    "    print(n)"
   ]
  },
  {
   "cell_type": "code",
   "execution_count": null,
   "metadata": {},
   "outputs": [],
   "source": [
    "def generator(n=0, maximum=10):\n",
    "    while True:\n",
    "        yield n\n",
    "        if n >= maximum:\n",
    "            return\n",
    "        \n",
    "        n += 1\n",
    "    \n",
    "gen = generator(maximum=100)\n",
    "for n in gen:\n",
    "    print(n)"
   ]
  },
  {
   "cell_type": "code",
   "execution_count": null,
   "metadata": {},
   "outputs": [],
   "source": [
    "def gen0():\n",
    "    print('gen0')\n",
    "    yield 1\n",
    "    print('acabou gen0')\n",
    "\n",
    "def gen1():\n",
    "    yield from gen0()\n",
    "    print('gen1')\n",
    "    yield 2\n",
    "    print('acabou gen1')\n",
    "    \n",
    "def gen2():\n",
    "    yield from gen1()\n",
    "    print('gen2')\n",
    "    yield 2\n",
    "    print('acabou gen2')\n",
    "    \n",
    "for x in gen2():\n",
    "    print(x)"
   ]
  },
  {
   "cell_type": "markdown",
   "metadata": {},
   "source": [
    "## try, except, else e finally"
   ]
  },
  {
   "cell_type": "code",
   "execution_count": null,
   "metadata": {},
   "outputs": [],
   "source": [
    "try:\n",
    "    print('Abrir arquivo')\n",
    "    8/0\n",
    "except ZeroDivisionError:\n",
    "    print('Não é possível dividir por zero')\n",
    "finally:\n",
    "    print('Fechar arquivo')"
   ]
  },
  {
   "cell_type": "markdown",
   "metadata": {},
   "source": [
    "## Raise Error"
   ]
  },
  {
   "cell_type": "code",
   "execution_count": null,
   "metadata": {},
   "outputs": [],
   "source": [
    "x = 5\n",
    "if x == 5:\n",
    "    raise ValueError ('Número 5 não é permitido') # Cria um erro"
   ]
  },
  {
   "cell_type": "markdown",
   "metadata": {},
   "source": [
    "## Modularização"
   ]
  },
  {
   "cell_type": "code",
   "execution_count": null,
   "metadata": {},
   "outputs": [],
   "source": [
    "import Modularizacao.envia_mod # pasta Modularizacao importa o arquivo envia_mod\n",
    "\n",
    "print(Modularizacao.envia_mod.IDADE)\n",
    "print(Modularizacao.envia_mod.soma(2,2))"
   ]
  },
  {
   "cell_type": "code",
   "execution_count": null,
   "metadata": {},
   "outputs": [],
   "source": [
    "from Modularizacao.envia_mod import IDADE,soma # Importa somente a constante IDADE e a função soma\n",
    "\n",
    "print(soma(2,2))\n",
    "print(IDADE)\n",
    "print(soma(3,2))"
   ]
  },
  {
   "cell_type": "code",
   "execution_count": null,
   "metadata": {},
   "outputs": [],
   "source": [
    "import Modularizacao.envia_mod as envia_mod # Importa e renomeia\n",
    "\n",
    "print(envia_mod.soma(2,2))\n",
    "print(envia_mod.IDADE)"
   ]
  },
  {
   "attachments": {},
   "cell_type": "markdown",
   "metadata": {
    "id": "dbM12aW8VSp1"
   },
   "source": [
    "## Comando f'\n",
    "Utilizado para definir uma formatação."
   ]
  },
  {
   "cell_type": "code",
   "execution_count": null,
   "metadata": {},
   "outputs": [],
   "source": [
    "print ('Olá, {}!'.format('Rodrigo')) # O que estiver dentro do comando format será inserido na chaves;\n",
    "print('Olá, {}! Este é seu acesso de número {}'.format('Rodrigo', 32)) # Quando tiver mais que uma chaves, seguirá a ordem dos valores apresentados no format\n",
    "print('Olá, {nome}! Este é seu acesso de número {acessos}'. format(nome = 'Rodrigo', acessos = 32)) # Caso coloque uma variável dentro da chaves, o valor que será impresso será o da variável;\n",
    "nome = 'Rodrigo'\n",
    "acessos = 32\n",
    "print (f'Olá, {nome}! Este é seu acesso de número {acessos}') # Este é uma maneira mais simplificada de mostrar o mesmo resultado."
   ]
  },
  {
   "cell_type": "code",
   "execution_count": null,
   "metadata": {
    "id": "C4KJzuLRIsk6"
   },
   "outputs": [],
   "source": [
    "print(12,34,1001,sep=\", \") # Separa os valores por ','\n",
    "print(12,34,1001,sep=\"/\") # Separa os valores por '/'\n",
    "print(12,34,1001,sep=\"\\n\", end=\"!\") # Separa os valores por quebra de linha e encerra com !"
   ]
  },
  {
   "cell_type": "code",
   "execution_count": null,
   "metadata": {},
   "outputs": [],
   "source": [
    "var = 'Teste'.upper()\n",
    "print(f'{var:=<20}')\n",
    "print(f'{var:=>20}')\n",
    "print(f'{var:=^20}')"
   ]
  },
  {
   "cell_type": "code",
   "execution_count": 17,
   "metadata": {},
   "outputs": [
    {
     "name": "stdout",
     "output_type": "stream",
     "text": [
      "=======BANCO========\n"
     ]
    }
   ],
   "source": [
    "banco = 'BANCO'\n",
    "print(f'{banco:=^20}')"
   ]
  },
  {
   "cell_type": "code",
   "execution_count": null,
   "metadata": {
    "id": "Ddxp8eMy0U_v"
   },
   "outputs": [],
   "source": [
    "pi = 3.14159\n",
    "porcentagem = 100\n",
    "porcentagem2 = 1\n",
    "\n",
    "print(f'Duas casas decimais do pi - {pi:.2f}') #Formatação para determinar apenas 2 casas decimais\n",
    "print(f'10 caracteres da string e 2 casas decimais do pi - {pi: 10.2f}') #Formatação para aumentar a string para 10 caracteres e 2 casas decimais\n",
    "print(f'Irá multiplicar o valor da porcentagem por 100: x = 100 == {porcentagem:.0%}') # Irá imprimir valor como porcentagem (porcentagem * 100)\n",
    "print(f'Irá multiplicar o valor da porcentagem por 100: x = 1 == {porcentagem2:.0%}') # Irá imprimir valor como porcentagem (porcentagem * 100)\n"
   ]
  },
  {
   "attachments": {},
   "cell_type": "markdown",
   "metadata": {
    "id": "Bp6hlJsE3Q6b"
   },
   "source": [
    "## Fatiamento de string\n",
    "Comando variavel[indice] - Buscar na string apenas os caracteres especificados"
   ]
  },
  {
   "cell_type": "code",
   "execution_count": null,
   "metadata": {
    "id": "kS4PHDe01qmS"
   },
   "outputs": [],
   "source": [
    "nome = 'Rafael Soares de Oliveira'\n",
    "\n",
    "print(nome[0]) #Busca apenas o primeiro caractere da string\n",
    "print(nome[:2]) #Busca apenas os 2 primeiros caracteres\n",
    "print(nome[10:]) #Busca a partir do caractere 10\n",
    "print(nome[10:16]) #Busca entre o caractere 10 e 16\n",
    "print(nome[10:16:2]) #Busca entre o caractere 10 e 16, porém ignora um caractere\n",
    "print(nome[:]) #Busca toda a string, já que não informado o fatiamento\n",
    "print(nome[::-1]) #Busca toda a string, porém ao contrário\n",
    "print(nome[::-2]) #Busca a string ao contrário e ignorando um caractere"
   ]
  },
  {
   "attachments": {},
   "cell_type": "markdown",
   "metadata": {
    "id": "RJML5D1p68vZ"
   },
   "source": [
    "## String múltiplas linhas"
   ]
  },
  {
   "cell_type": "code",
   "execution_count": null,
   "metadata": {
    "id": "h8xfBTvA7ARi"
   },
   "outputs": [],
   "source": [
    "nome = 'Rafael'\n",
    "\n",
    "print(f'''Olá, \n",
    "meu nome \n",
    "é {nome}, \n",
    "tenho \n",
    "29 anos,\n",
    "é \n",
    "isso.''') #Ao acrescentar 3''' permite realizar quebra de linhas"
   ]
  },
  {
   "attachments": {},
   "cell_type": "markdown",
   "metadata": {
    "id": "IhcPana8U7fR"
   },
   "source": [
    "## .upper/lower/title()\n",
    "Alterar string para maiúscula, minúscula ou apenas primeira letra maiúscula"
   ]
  },
  {
   "cell_type": "code",
   "execution_count": null,
   "metadata": {
    "id": "juJ6imn-VSIw"
   },
   "outputs": [],
   "source": [
    "texto = 'TeXto'\n",
    "\n",
    "print(texto.upper()) #Transforma todas as letras em maiúscula\n",
    "print(texto.lower()) #Transforma todas as letras em minúscula\n",
    "print(texto.title()) #Transforma apeans a primeira letra em maiúscula"
   ]
  },
  {
   "attachments": {},
   "cell_type": "markdown",
   "metadata": {
    "id": "9_VEwpXtVwlJ"
   },
   "source": [
    "## .strip/lstrip/rstrip()\n",
    "Retirar espaço em branco do texto, da esquerda ou direita, respectivamente"
   ]
  },
  {
   "cell_type": "code",
   "execution_count": null,
   "metadata": {
    "id": "EMP5Kp56srRv"
   },
   "outputs": [],
   "source": [
    "texto = ' Texto '\n",
    "\n",
    "print('.' + texto.strip() + '.') #Retirar espaço em branco da string\n",
    "print('.' + texto.lstrip() + '.') #Retirar espaço em branco somente da esquerda\n",
    "print('.' + texto.rstrip() + '.') #Retirar espaço em branco somente da direita"
   ]
  },
  {
   "attachments": {},
   "cell_type": "markdown",
   "metadata": {
    "id": "bA3h2bDHtqhf"
   },
   "source": [
    "## .center(qnt de caract da string, do que será preenchido) \n",
    "Aumentar a quantidade de caracteres da string ao acrescentar mais caracteres"
   ]
  },
  {
   "cell_type": "code",
   "execution_count": null,
   "metadata": {
    "id": "h-cJ8oy5uHpG"
   },
   "outputs": [],
   "source": [
    "texto = 'Texto'\n",
    "x = 1\n",
    "\n",
    "print(texto.center(10)) #Acrescenta espaços em branco até atingir 10 caracteres\n",
    "print(texto.center(10, '!')) #Acrescenta '!' até atingir 10 caracteres. Aceita apenas strings"
   ]
  },
  {
   "attachments": {},
   "cell_type": "markdown",
   "metadata": {
    "id": "L9yawq-xuyGW"
   },
   "source": [
    "## .join(variavel)\n",
    "Acrescenta caractere entre os caracteres da string"
   ]
  },
  {
   "cell_type": "code",
   "execution_count": null,
   "metadata": {
    "id": "Wv4zn--pvIlP"
   },
   "outputs": [],
   "source": [
    "texto = 'Texto'\n",
    "\n",
    "print('/'.join(texto)) #Acrescenta a '/' entre os caracteres"
   ]
  },
  {
   "attachments": {},
   "cell_type": "markdown",
   "metadata": {
    "id": "LoRvFfdeV3hw"
   },
   "source": [
    "## if e else\n",
    "Utilizado para determinar condição."
   ]
  },
  {
   "cell_type": "code",
   "execution_count": null,
   "metadata": {
    "colab": {
     "base_uri": "https://localhost:8080/"
    },
    "executionInfo": {
     "elapsed": 249,
     "status": "ok",
     "timestamp": 1686285906793,
     "user": {
      "displayName": "Rafael Soares de olivera",
      "userId": "12840280091241343942"
     },
     "user_tz": 180
    },
    "id": "1Fx3Of1-NlJW",
    "outputId": "90527049-3e25-4cc4-9b9a-07f2bea787c6"
   },
   "outputs": [],
   "source": [
    "idade = 21\n",
    "def apto_dirigir():\n",
    "  if (idade >= 18):\n",
    "    print ('Tem permissão para dirigir')\n",
    "  else:\n",
    "    print ('Não tem permissão')\n",
    "\n",
    "apto_dirigir()"
   ]
  },
  {
   "attachments": {},
   "cell_type": "markdown",
   "metadata": {
    "id": "m0Co9NaFWamN"
   },
   "source": [
    "## for \n",
    "Permite percorrer os itens de uma coleção e, para cada um deles, executar o bloco de código declarado no loop.\n",
    "\n",
    "Variável 'idade' é definida como a variável que apresentará valor individual de dentro da lista 'idades'"
   ]
  },
  {
   "cell_type": "code",
   "execution_count": null,
   "metadata": {
    "id": "4n-nGuHiiotg"
   },
   "outputs": [],
   "source": [
    "idades = [18,22,15,50]\n",
    "def verica_se_pode_dirigir1(idades):\n",
    "  for idade in idades:\n",
    "    if idade >= 18:\n",
    "      print (f'{idade} anos de idade, tem permissão')\n",
    "    else:\n",
    "      print (f'{idade} anos de idade, não tem permissão')\n",
    "\n",
    "verica_se_pode_dirigir1(idades)"
   ]
  },
  {
   "attachments": {},
   "cell_type": "markdown",
   "metadata": {
    "id": "J0pWz6ZoDwVE"
   },
   "source": [
    "## While\n",
    "Irá rodar a instrução enquanto for a condição for verdadeira\n",
    "\n",
    "Comando '+=' é utilizado para acrescentar o valor da variável "
   ]
  },
  {
   "cell_type": "code",
   "execution_count": null,
   "metadata": {
    "id": "r9kYhi84Dx1M"
   },
   "outputs": [],
   "source": [
    "total = 0\n",
    "qtde = 0\n",
    "nota = 0\n",
    "\n",
    "while qtde < 3:\n",
    "  nota = float(input('Informe a nota ou -1 para sair:'))\n",
    "  if nota != -1:\n",
    "      qtde += 1\n",
    "      total += nota\n",
    "\n",
    "print(f'A média da turma é {total / qtde :.2f}')"
   ]
  },
  {
   "attachments": {},
   "cell_type": "markdown",
   "metadata": {
    "id": "HpOmuP5iYsE0"
   },
   "source": [
    "## .append\n",
    "Adiciona um objeto em uma lista."
   ]
  },
  {
   "cell_type": "code",
   "execution_count": null,
   "metadata": {
    "id": "Z1Dyx6JVZfH9"
   },
   "outputs": [],
   "source": [
    "permissoes = []\n",
    "idades = [18,22,15,50]\n",
    "def verifica_se_pode_dirigir2(idades, permissoes):\n",
    "  for idade in idades:\n",
    "    if idade >= 18:\n",
    "      permissoes.append(True)\n",
    "    else:\n",
    "      permissoes.append(False)\n",
    "\n",
    "verifica_se_pode_dirigir2(idades, permissoes)\n",
    "print (permissoes)"
   ]
  },
  {
   "cell_type": "code",
   "execution_count": null,
   "metadata": {
    "id": "pA__Grjg4rmX"
   },
   "outputs": [],
   "source": [
    "lista = ['Guilherme', 28, True, '18']\n",
    "\n",
    "for elemento in lista:\n",
    "  print(f'O elemento {elemento} é do tipo:', type(elemento))"
   ]
  },
  {
   "attachments": {},
   "cell_type": "markdown",
   "metadata": {
    "id": "JNlH8o8_OfmB"
   },
   "source": [
    "## Import\n",
    "Importa uma biblioteca não nativa;\n",
    "\n",
    "Random - Gera um número aleatório;\n",
    "\n",
    "Range - Indica a quantidade máxima de caracteres;\n",
    "\n",
    "Randrange - Limita o mínimo e máximo do conteúdo da variável."
   ]
  },
  {
   "cell_type": "code",
   "execution_count": null,
   "metadata": {
    "id": "73vhDvWz5pzn"
   },
   "outputs": [],
   "source": [
    "from random import randrange\n",
    "\n",
    "notas_matematica = []\n",
    "for notas in range(8):\n",
    "  notas_matematica.append(randrange(0, 11))\n",
    "notas_matematica"
   ]
  },
  {
   "attachments": {},
   "cell_type": "markdown",
   "metadata": {},
   "source": [
    "### pip\n",
    "Pip refere-se ao sistema de gerenciamento de pacotes usado para instalação e gerenciamento de bibliotecas de softwares escritos em Python.\n",
    "Por exemplo: Matplotlib, Pytz, Pandas. Instalação: pip install pandas"
   ]
  },
  {
   "attachments": {},
   "cell_type": "markdown",
   "metadata": {
    "id": "cvpuLdi0OEhE"
   },
   "source": [
    "## Len()\n",
    "Informa a quantidade de caracteres na variável"
   ]
  },
  {
   "cell_type": "code",
   "execution_count": null,
   "metadata": {
    "id": "N9AJKllC69i2"
   },
   "outputs": [],
   "source": [
    "len(notas_matematica)"
   ]
  },
  {
   "cell_type": "code",
   "execution_count": null,
   "metadata": {},
   "outputs": [],
   "source": [
    "x = 'Rafael'\n",
    "len(x)"
   ]
  },
  {
   "attachments": {},
   "cell_type": "markdown",
   "metadata": {},
   "source": [
    "## GITHUB\n",
    "Utilizar comandos no terminal"
   ]
  },
  {
   "cell_type": "code",
   "execution_count": null,
   "metadata": {},
   "outputs": [],
   "source": [
    "# Configurar nome de usuário e email\n",
    "git config --global user.name \"seu nome de usuario\"\n",
    "git config --global user.email seu email\n",
    "\n",
    "# Criar um repositório novo ou importar uma pasta existente que não possui controle de versões\n",
    "git Init \n",
    "\n",
    "# Remover arquivos \n",
    "git rm -f {arquivo}\n",
    "\n",
    "# Ramificar (branches)\n",
    "git branch # cria um novo branch\n",
    "git branch --list # visualizar as ramificações\n",
    "git branch -d # excluir um branch\n",
    "\n",
    "#Incluir no próximo commit\n",
    "git add # adicionar 1 arquivo\n",
    "git add -A #adicionar todos os arquivos\n",
    "git add .\n",
    "\n",
    "#Armazenar e verificar conteúdo atual do índice\n",
    "git commit -m \"explicar a mudança no código\"\n",
    "\n",
    "# Comitar do repositório local para o servidor remoto\n",
    "git push \n",
    "git push -u origin main"
   ]
  },
  {
   "attachments": {},
   "cell_type": "markdown",
   "metadata": {},
   "source": [
    "## Pytz\n",
    "Permite apresentar data atual de todo o mundo\n",
    "\n",
    "Necessário antes instalar a biblioteca no terminal - pip install pytz"
   ]
  },
  {
   "cell_type": "code",
   "execution_count": null,
   "metadata": {},
   "outputs": [],
   "source": [
    "import pytz\n",
    "\n",
    "def print_iter(iterator):\n",
    "    print(*list(iterator), sep='\\n')\n",
    "    print()\n",
    "\n",
    "print_iter(pytz.all_timezones)"
   ]
  },
  {
   "cell_type": "code",
   "execution_count": null,
   "metadata": {},
   "outputs": [],
   "source": [
    "from datetime import datetime\n",
    "from pytz import timezone\n",
    " \n",
    "horario_atual = datetime.now(timezone('UTC'))\n",
    "format = \"%d-%m-%Y %H:%M:%S\" # Define o formato que apresentado, também é possível colocar direto na variável\n",
    " \n",
    "# Converte para o horário do Brasil/São Paulo\n",
    "agora_brasil = horario_atual.astimezone(timezone('America/Sao_Paulo'))\n",
    "print(agora_brasil.strftime(format))"
   ]
  },
  {
   "cell_type": "code",
   "execution_count": null,
   "metadata": {},
   "outputs": [],
   "source": [
    "import pytz\n",
    "import re\n",
    "import pandas as pd\n",
    "\n",
    "africa_continente = []\n",
    "africa_estados = []\n",
    "america_estados = []\n",
    "america_continente = []\n",
    "\n",
    "zonas = pytz.all_timezones\n",
    "\n",
    "for x in zonas:\n",
    "    if 'Africa' in x:\n",
    "        q,y = re.split('/',x)\n",
    "        africa_continente.append(q)\n",
    "        africa_estados.append(y)\n",
    "    \n",
    "for x in zonas:\n",
    "    if 'America' in x:\n",
    "        q,y = re.split('/',x,maxsplit=1)\n",
    "        america_continente.append(q)\n",
    "        america_estados.append(y)\n",
    "        \n",
    "\n",
    "africa = list(zip(africa_continente,africa_estados))\n",
    "america = list(zip(america_continente,america_estados))\n",
    "africa_america = africa + america\n",
    "df_america_africa = pd.DataFrame(africa_america,columns=('Continente','Estados'))\n",
    "print(df_america_africa)"
   ]
  },
  {
   "cell_type": "code",
   "execution_count": null,
   "metadata": {},
   "outputs": [],
   "source": [
    "import pytz\n",
    "import re\n",
    "import pandas as pd\n",
    "\n",
    "zonas = pytz.all_timezones\n",
    "continentes = []\n",
    "estados = []\n",
    "\n",
    "for zona in zonas:\n",
    "    if '/' in zona:\n",
    "        continente,estado = re.split('/',zona,maxsplit=1)\n",
    "        continentes.append(continente)\n",
    "        estados.append(estado)\n",
    "        \n",
    "    else:\n",
    "        zona_ = zona + '/SemEstado'\n",
    "        continente,estado = re.split('/',zona_,maxsplit=1)\n",
    "        continentes.append(continente)\n",
    "        estados.append(estado)\n",
    "    \n",
    "zonas_divididas = list(zip(continentes,estados))\n",
    "df_zonas = pd.DataFrame(zonas_divididas, columns=('Continente','Estado'))\n",
    "\n",
    "def filtrar_continente(filtro1):\n",
    "    return df_zonas[(df_zonas.Continente == filtro1)]\n",
    "    \n",
    "def filtrar_estado(filtro2):\n",
    "    return df_zonas[(df_zonas.Estado == filtro2)]\n",
    "\n",
    "x = input(\"Filtrar por continente[1] ou por estado[2]\")\n",
    "if x == '1':\n",
    "    print(filtrar_continente(input(\"Digite o continente\").capitalize()))\n",
    "elif x == '2':\n",
    "    print(filtrar_estado(input(\"Digite o estado\").capitalize()))\n",
    "else:\n",
    "    print(\"Opção Incorreta!\")"
   ]
  },
  {
   "attachments": {},
   "cell_type": "markdown",
   "metadata": {
    "id": "2Q8-U7vfWPHV"
   },
   "source": [
    "## random.seed\n",
    "Todo número gerado terá o mesmo valor, contanto que o valor da seed seja o mesmo."
   ]
  },
  {
   "cell_type": "code",
   "execution_count": null,
   "metadata": {
    "colab": {
     "base_uri": "https://localhost:8080/"
    },
    "executionInfo": {
     "elapsed": 282,
     "status": "ok",
     "timestamp": 1686108097046,
     "user": {
      "displayName": "Rafael Soares de olivera",
      "userId": "12840280091241343942"
     },
     "user_tz": 180
    },
    "id": "ktdKi-mN7O9t",
    "outputId": "541fa81c-0c63-4fdd-fa46-b6264135e69b"
   },
   "outputs": [],
   "source": [
    "import random\n",
    "\n",
    "random.seed(10)\n",
    "print (random.random())"
   ]
  },
  {
   "attachments": {},
   "cell_type": "markdown",
   "metadata": {
    "id": "3iNqohBjcR6x"
   },
   "source": [
    "\n",
    "## Matplotlib\n",
    "Irá gerar um gráfico.\n",
    "\n",
    "Necessário antes instalar a biblioteca no terminal - pip install matplotlib"
   ]
  },
  {
   "cell_type": "code",
   "execution_count": null,
   "metadata": {
    "id": "mplv0y72akYj"
   },
   "outputs": [],
   "source": [
    "import matplotlib.pyplot as plt\n",
    "x = list(range(0, 8)) # Identifica o eixo X;\n",
    "y = notas_matematica # Idenifica o eixo Y;\n",
    "plt.plot(x, y, marker='o') # Determina a plotagem do gráfico com os respectivos eixos x e y. Comando marker irá colocar um marcador nos pontos;\n",
    "plt.title('Notas de matemática') # Coloca um título no gráfico;\n",
    "plt.xlabel('Provas') # Nomeia o eixo X;\n",
    "plt.ylabel('Notas') # Nomeia o eixo Y;\n",
    "plt.show() # Esconde as propriedades do texto."
   ]
  },
  {
   "attachments": {},
   "cell_type": "markdown",
   "metadata": {
    "id": "Hw20lHe5FDwA"
   },
   "source": [
    "## Biblioteca Numpy\n",
    "É um pacote para cálculos numéricos."
   ]
  },
  {
   "cell_type": "code",
   "execution_count": null,
   "metadata": {
    "id": "mJYLyM5LxtG-"
   },
   "outputs": [],
   "source": [
    "import numpy as np\n",
    "\n",
    "km = np.loadtxt('Arquivos de apoio/carros-km.txt', dtype = int) # Comando np.loadtxt irá importar o arquivo txt e transformar os dados em array;\n",
    "km # Necessário acrescentar para imprimir."
   ]
  },
  {
   "cell_type": "code",
   "execution_count": null,
   "metadata": {
    "id": "VfHLc0unQnNJ"
   },
   "outputs": [],
   "source": [
    " anos  = np.loadtxt('Arquivos de apoio/carros_anos.txt', dtype = int) # Acrescentar comando dtype = int para limitar a quantidade casas decimais.\n",
    " anos"
   ]
  },
  {
   "cell_type": "code",
   "execution_count": null,
   "metadata": {
    "id": "eMQ3sa3NV4sG"
   },
   "outputs": [],
   "source": [
    "km_media = km / (2019 - anos)\n",
    "print(km_media)"
   ]
  },
  {
   "attachments": {},
   "cell_type": "markdown",
   "metadata": {
    "id": "gTwemhK9XnSc"
   },
   "source": [
    "## Operações Matemáticas"
   ]
  },
  {
   "cell_type": "code",
   "execution_count": null,
   "metadata": {
    "id": "WgvTtSNOW6lW"
   },
   "outputs": [],
   "source": [
    "soma = 1+1 # Soma;\n",
    "multiplicacao = 2*2 # Multiplicação;\n",
    "divisao = 6/5 # Divisão que retorna um valor float;\n",
    "divisao_valor_inteiro = 6//2 # Divisão que retorna um valor inteiro;\n",
    "resto_divisao = 6%3 # Resto da divisão;\n",
    "\n",
    "print (f'Soma = {soma}  /  Multiplicação = {multiplicacao} / Divisão = {divisao} / Divisão resulta em valor inteiro = {divisao_valor_inteiro} / Resto da divisão = {resto_divisao}')"
   ]
  },
  {
   "cell_type": "code",
   "execution_count": null,
   "metadata": {
    "id": "k4jR6YCkYSyq"
   },
   "outputs": [],
   "source": [
    "x = 200\n",
    "x -= 2 # Acrescentar o caractere - irá subtrair o valor informado no valor original da variável. Também funciona para outras operações\n",
    "print(f'X = {x}')\n",
    "\n",
    "y = 200 \n",
    "y += 2 # Também funciona para outras operações\n",
    "print(f'Y = {y}')\n",
    "\n",
    "z = 200 \n",
    "z **= 2 # Exponencial\n",
    "print(f'Z = {z}')"
   ]
  },
  {
   "cell_type": "code",
   "execution_count": null,
   "metadata": {
    "id": "M_boUCf9YoNY"
   },
   "outputs": [],
   "source": [
    "km1, km2, km3 = 1, 2, 3 # É possível declarar diversas variáveis utilizando apenas uma linha.\n",
    "km_total = km1 + km2 + km3\n",
    "km_total"
   ]
  },
  {
   "attachments": {},
   "cell_type": "markdown",
   "metadata": {
    "id": "bdZjvoB8RFVI"
   },
   "source": [
    "## Operadores lógicos"
   ]
  },
  {
   "cell_type": "code",
   "execution_count": null,
   "metadata": {
    "id": "agO6Ym56RCE4"
   },
   "outputs": [],
   "source": [
    "x = 200\n",
    "y = 100\n",
    "z = 150\n",
    "\n",
    "if (z > 100 or z < 200): # Operador lógico 'or' = condição x ou y\n",
    "  print(x)\n",
    "else:\n",
    "  print(y)"
   ]
  },
  {
   "cell_type": "code",
   "execution_count": null,
   "metadata": {
    "id": "STE58mqQS_1L"
   },
   "outputs": [],
   "source": [
    "x1 = 200\n",
    "y1 = 100\n",
    "z1 = 150\n",
    "\n",
    "if (z1 > 100 and z1 < 200): # Operador lógico 'and' = condição x e y\n",
    "  print(x1)\n",
    "else:\n",
    "  print(y1)"
   ]
  },
  {
   "attachments": {},
   "cell_type": "markdown",
   "metadata": {
    "id": "7x3Mj4VNVfJA"
   },
   "source": [
    "## Operadores de identidade"
   ]
  },
  {
   "cell_type": "code",
   "execution_count": null,
   "metadata": {
    "id": "_p1jsK1MVkmG"
   },
   "outputs": [],
   "source": [
    "x = 1\n",
    "x = y\n",
    "\n",
    "x is y, x is not y # identificar se variável x ocupa a mesma região de memória que variável y"
   ]
  },
  {
   "attachments": {},
   "cell_type": "markdown",
   "metadata": {
    "id": "jWBujow5NWeR"
   },
   "source": [
    "## Tipo da variável"
   ]
  },
  {
   "cell_type": "code",
   "execution_count": null,
   "metadata": {
    "id": "zwcNFyoXgLwA"
   },
   "outputs": [],
   "source": [
    "type(km_total) # Comando para informar qual é o tipo do valor da variável (str, int, float, bool, none)."
   ]
  },
  {
   "cell_type": "code",
   "execution_count": null,
   "metadata": {
    "id": "EDYzAKAfQH2f"
   },
   "outputs": [],
   "source": [
    "a = 1\n",
    "b = 'x'\n",
    "# a + b = Não é possível somar variáveis int com str;\n",
    "str(a) + b # Converte a variável para str, não é possível converter letra para int."
   ]
  },
  {
   "cell_type": "code",
   "execution_count": null,
   "metadata": {
    "id": "AD53s_8CMt9Z"
   },
   "outputs": [],
   "source": [
    "text = 'A quilometragem média do veículo é '\n",
    "km = 100000\n",
    "Ano_atual = 2019\n",
    "Ano_fabricacao = 1999\n",
    "text + str( int( km / (Ano_atual - Ano_fabricacao) ) ) + ' km' # A operação dentro do pârentes é convertido para int e o resultado total é convertido para str."
   ]
  },
  {
   "attachments": {},
   "cell_type": "markdown",
   "metadata": {
    "id": "IkK55x7HmHt8"
   },
   "source": [
    "## Listas"
   ]
  },
  {
   "cell_type": "code",
   "execution_count": null,
   "metadata": {
    "id": "GpiwrwsAhhOc"
   },
   "outputs": [],
   "source": [
    "letras = ['a', 'b', 'c', 'd', 'e'] # Listas são criadas com colchetes;\n",
    "numeros = [1, 2, 3, 4, 5]\n",
    "print(letras)\n",
    "print(numeros)\n",
    "caracteres = [letras, numeros] # É possível criar uma lista com outras listas;\n",
    "caracteres"
   ]
  },
  {
   "attachments": {},
   "cell_type": "markdown",
   "metadata": {
    "id": "ptD-QxQYqJ4o"
   },
   "source": [
    "### Operadores de associação\n",
    "Comando para saber se determinado objeto está ou não está dentro de determinada lista."
   ]
  },
  {
   "cell_type": "code",
   "execution_count": null,
   "metadata": {
    "id": "vb34HzLHp5d6"
   },
   "outputs": [],
   "source": [
    "'a' in letras # O resultado será True."
   ]
  },
  {
   "cell_type": "code",
   "execution_count": null,
   "metadata": {
    "id": "J7EXUWGVIo62"
   },
   "outputs": [],
   "source": [
    "1 in numeros"
   ]
  },
  {
   "cell_type": "code",
   "execution_count": null,
   "metadata": {
    "id": "tfkPPBtpv5X9"
   },
   "outputs": [],
   "source": [
    "1 in letras # O resultado será False."
   ]
  },
  {
   "cell_type": "code",
   "execution_count": null,
   "metadata": {
    "id": "AniQqpU5wMEu"
   },
   "outputs": [],
   "source": [
    "'a' not in letras # O resultado será False."
   ]
  },
  {
   "attachments": {},
   "cell_type": "markdown",
   "metadata": {},
   "source": [
    "### Posição em listas"
   ]
  },
  {
   "attachments": {},
   "cell_type": "markdown",
   "metadata": {
    "id": "rnfdfNx_hAmQ"
   },
   "source": [
    "#### A[i]\n",
    "Retorna o i-ésimo item da lista A"
   ]
  },
  {
   "cell_type": "code",
   "execution_count": null,
   "metadata": {
    "id": "xVwxqKuthDnW"
   },
   "outputs": [],
   "source": [
    "letras[-1]  # Retorna o último item da lista. Começa com 0."
   ]
  },
  {
   "cell_type": "code",
   "execution_count": null,
   "metadata": {
    "id": "5tIjPa5zhaCc"
   },
   "outputs": [],
   "source": [
    "letras[2]  # Retorna o 3º item da lista."
   ]
  },
  {
   "cell_type": "code",
   "execution_count": null,
   "metadata": {
    "id": "GnPtLurCj98b"
   },
   "outputs": [],
   "source": [
    "caracteres[0][3] # Retorna o 4º item da 1º lista."
   ]
  },
  {
   "attachments": {},
   "cell_type": "markdown",
   "metadata": {
    "id": "-_MBJOGpkpeC"
   },
   "source": [
    "#### A[i:j]\n",
    "Retorna do i-ésimo item até o i-ésimo"
   ]
  },
  {
   "cell_type": "code",
   "execution_count": null,
   "metadata": {
    "id": "mTprb9LGktPc"
   },
   "outputs": [],
   "source": [
    "letras [0:2] # Retorna do 1º item até o 2º item."
   ]
  },
  {
   "cell_type": "code",
   "execution_count": null,
   "metadata": {
    "id": "p5l2RGESm2Yj"
   },
   "outputs": [],
   "source": [
    "caracteres[1][1:3] # Retorna do 2º item até o 3º item da lista 2."
   ]
  },
  {
   "attachments": {},
   "cell_type": "markdown",
   "metadata": {
    "id": "zHx0idtj8Eit"
   },
   "source": [
    "#### A.sort()\n",
    "Ordena a ordem da lista"
   ]
  },
  {
   "cell_type": "code",
   "execution_count": null,
   "metadata": {
    "id": "TfIDzwuO8G3G"
   },
   "outputs": [],
   "source": [
    "letras1 = ['b11', 'd111', 'e1111', 'h111111', 'a1', 'f11111']\n",
    "letras1.sort() # Ordena em ordem alfabética.\n",
    "print(letras1)\n",
    "\n",
    "letras1.sort(reverse = True) # Ordena em ordem decrescente\n",
    "print(letras1)\n",
    "\n",
    "letras1.sort(key=lambda x: len(x)) #Ordena pela quantidade de caracteres\n",
    "print(letras1)\n",
    "\n",
    "letras1.sort(key=lambda x: len(x), reverse = True ) #Ordena pela quantidade de caracteres em ordem decrescente\n",
    "print(letras1)"
   ]
  },
  {
   "attachments": {},
   "cell_type": "markdown",
   "metadata": {},
   "source": [
    "#### sorted()\n",
    "Função built-in que ordena"
   ]
  },
  {
   "cell_type": "code",
   "execution_count": null,
   "metadata": {},
   "outputs": [],
   "source": [
    "letras = [3, 5, 2, 0, 4, 1]\n",
    "print(sorted(letras))"
   ]
  },
  {
   "attachments": {},
   "cell_type": "markdown",
   "metadata": {
    "id": "qJGzW1Hr9N5Y"
   },
   "source": [
    "#### A.append(x)\n",
    "Adiciona o elemento no final da lista A."
   ]
  },
  {
   "cell_type": "code",
   "execution_count": null,
   "metadata": {
    "id": "Mnq24RgZ9NUq"
   },
   "outputs": [],
   "source": [
    "letras = [3, 5, 2, 0, 4, 1]\n",
    "letras.append('g') # A letra g é adicionada no final da lista.\n",
    "letras"
   ]
  },
  {
   "attachments": {},
   "cell_type": "markdown",
   "metadata": {
    "id": "wYXJoAFb-vIU"
   },
   "source": [
    "#### A.pop(i)\n",
    "Remove determinado caractere da lista."
   ]
  },
  {
   "cell_type": "code",
   "execution_count": null,
   "metadata": {
    "id": "wSwUbwLh_B90"
   },
   "outputs": [],
   "source": [
    "letras = [3, 5, 2, 0, 4, 1]\n",
    "letras.pop(0) # Remove o 1º item da lista.\n",
    "letras"
   ]
  },
  {
   "attachments": {},
   "cell_type": "markdown",
   "metadata": {
    "id": "kpVyrK5D_cIw"
   },
   "source": [
    "#### A.copy()\n",
    "Cria a cópia rasa de uma lista. Ocupará espaço."
   ]
  },
  {
   "cell_type": "code",
   "execution_count": null,
   "metadata": {
    "id": "mqKxgWwH_fYy"
   },
   "outputs": [],
   "source": [
    "letras = [3, 5, 2, 0, 4, 1]\n",
    "letras2 = letras.copy() # Copia a lista letra. Ideal quando necessário realizar testes no código.\n",
    "letras2"
   ]
  },
  {
   "cell_type": "code",
   "execution_count": null,
   "metadata": {
    "id": "Op2vAo3AHUFx"
   },
   "outputs": [],
   "source": [
    "letras = [3, 5, 2, 0, 4, 1]\n",
    "letras3 = letras[:] # O comando copy() também pode ser escrito assim.\n",
    "letras3"
   ]
  },
  {
   "cell_type": "code",
   "execution_count": null,
   "metadata": {},
   "outputs": [],
   "source": [
    "letras = [3, 5, 2, 0, 4, 1]\n",
    "print(f'''{letras} \n",
    "{letras2} \n",
    "{letras3}''')"
   ]
  },
  {
   "cell_type": "code",
   "execution_count": null,
   "metadata": {},
   "outputs": [],
   "source": [
    "letras = [3, 5, 2, 0, 4, 1]\n",
    "letras2 = [letra for letra in letras] # Faz um cópia de uma lista. Se editar o original irá alterar a cópia\n",
    "letras2"
   ]
  },
  {
   "attachments": {},
   "cell_type": "markdown",
   "metadata": {},
   "source": [
    "#### [].reverse()\n",
    "Inverte a lista"
   ]
  },
  {
   "cell_type": "code",
   "execution_count": null,
   "metadata": {},
   "outputs": [],
   "source": [
    "letras4 = [1, 2, 3, 4, 5]\n",
    "print(f'Ordem original - {letras4}')\n",
    "\n",
    "letras4.reverse()\n",
    "print(f'Ordem invertida - {letras4}')"
   ]
  },
  {
   "attachments": {},
   "cell_type": "markdown",
   "metadata": {},
   "source": [
    "#### [].remove()\n",
    "Excluir elemento"
   ]
  },
  {
   "cell_type": "code",
   "execution_count": null,
   "metadata": {},
   "outputs": [],
   "source": [
    "letras4 = [1, 2, 3, 4, 5]\n",
    "letras4.remove(2)\n",
    "print(letras4)"
   ]
  },
  {
   "attachments": {},
   "cell_type": "markdown",
   "metadata": {},
   "source": [
    "#### [].index()\n",
    "Mostra a posição da variável na lista"
   ]
  },
  {
   "cell_type": "code",
   "execution_count": null,
   "metadata": {},
   "outputs": [],
   "source": [
    "letras4 = [1, 2, 3, 4, 5]\n",
    "print(letras4)\n",
    "print(letras4.index(4)) #Número 4 está na posição 1\n"
   ]
  },
  {
   "attachments": {},
   "cell_type": "markdown",
   "metadata": {
    "id": "Ajp7FnRoALsc"
   },
   "source": [
    "#### Igualar\n",
    "Iguala as variáveis"
   ]
  },
  {
   "cell_type": "code",
   "execution_count": null,
   "metadata": {
    "id": "cnN6PsLWAT5o"
   },
   "outputs": [],
   "source": [
    "letras4 = letras # Toda mudança realizada tanto na lista4 quanto na lista será realizada na duas."
   ]
  },
  {
   "attachments": {},
   "cell_type": "markdown",
   "metadata": {
    "id": "k9o3ox95AoXV"
   },
   "source": [
    "#### Repetição e Condicional\n"
   ]
  },
  {
   "attachments": {},
   "cell_type": "markdown",
   "metadata": {
    "id": "fHHItJxeCYrN"
   },
   "source": [
    "for - Para variável na condição"
   ]
  },
  {
   "cell_type": "code",
   "execution_count": null,
   "metadata": {
    "id": "y1Zt1_YiBK6U"
   },
   "outputs": [],
   "source": [
    "letras4 = [1, 2, 3, 4, 5]\n",
    "for i in letras4: # Retira os caracteres da lista e transforma para uma coluna\n",
    "    print (i)"
   ]
  },
  {
   "attachments": {},
   "cell_type": "markdown",
   "metadata": {
    "id": "wuNLU6FkDH4d"
   },
   "source": [
    "#### List Comprehensions"
   ]
  },
  {
   "cell_type": "code",
   "execution_count": null,
   "metadata": {
    "id": "QfHjNTulDWPp"
   },
   "outputs": [],
   "source": [
    "list(range(10)) # Gera uma lista que vai de 0 a 9."
   ]
  },
  {
   "cell_type": "code",
   "execution_count": null,
   "metadata": {
    "id": "w4lYhIUGTYpJ"
   },
   "outputs": [],
   "source": [
    "for i in range(10):\n",
    "  print(i**2) # Gera 10 resultados que eleva ao quadrado o valor da variável."
   ]
  },
  {
   "cell_type": "code",
   "execution_count": null,
   "metadata": {
    "id": "Fj8wy344Vfvr"
   },
   "outputs": [],
   "source": [
    "lista = []\n",
    "for i in range(10):\n",
    "  lista.append(i**2) # Cria uma lista com 10 elementos seguindo a operação.\n",
    "lista"
   ]
  },
  {
   "cell_type": "code",
   "execution_count": null,
   "metadata": {
    "id": "JPFFk5ccZCn0"
   },
   "outputs": [],
   "source": [
    "lista = [i ** 2 for i in range(10)] # Esse comando também gera uma lista com 10 elementos seguindo a operação.\n",
    "lista"
   ]
  },
  {
   "attachments": {},
   "cell_type": "markdown",
   "metadata": {
    "id": "sGgjCslDdQvm"
   },
   "source": [
    "#### Loops alinhados"
   ]
  },
  {
   "cell_type": "code",
   "execution_count": null,
   "metadata": {
    "id": "zOxtgl1PdULF"
   },
   "outputs": [],
   "source": [
    "import pprint\n",
    "pp = pprint.PrettyPrinter(indent=4)\n",
    "dados = [\n",
    "         ['Rodas de liga', 'Travas elétricas', 'Piloto automático', 'Bancos de couro', 'Ar condicionado', 'Sensor de estacioanmento', 'Sensor crepuscular', 'Sensor de chuva',\n",
    "         ['Central multimídia', 'Teto panorâmico', 'Freio ABS', '4 X 4', 'Painel digital', 'Piloto automático', 'Bancos de couro', 'Câmera de estacionamento'],\n",
    "          ['Piloto automático', 'Controle de estabilidade', 'Sensor crepuscular', 'Freio ABS', 'Câmbio automático', 'Bancos de couro', 'Central multimídia', 'Vidros elétricos']]\n",
    "]\n",
    "pp.pprint(dados)"
   ]
  },
  {
   "cell_type": "code",
   "execution_count": null,
   "metadata": {
    "id": "Tc2YsYm7gRKo"
   },
   "outputs": [],
   "source": [
    "import pprint\n",
    "pp = pprint.PrettyPrinter(indent=4,width=80,compact=True)\n",
    "\n",
    "for lista1 in dados: \n",
    "  for item in lista1:\n",
    "    pp.pprint(item) # Gera uma lista única."
   ]
  },
  {
   "cell_type": "code",
   "execution_count": null,
   "metadata": {
    "id": "rxofkl81mGrr"
   },
   "outputs": [],
   "source": [
    "dados1 = [] \n",
    "for lista2 in dados:\n",
    "  dados1 += lista2 # Gera o mesmo resultado.\n",
    "dados1"
   ]
  },
  {
   "cell_type": "code",
   "execution_count": null,
   "metadata": {
    "id": "3IR-l15gmzGk"
   },
   "outputs": [],
   "source": [
    "[item1 for lista3 in dados for item1 in lista3] # Gera o mesmo resultado."
   ]
  },
  {
   "attachments": {},
   "cell_type": "markdown",
   "metadata": {
    "id": "5xNXHeu4tMXy"
   },
   "source": [
    "#### if - Impor uma condição\n"
   ]
  },
  {
   "cell_type": "code",
   "execution_count": null,
   "metadata": {
    "id": "XyEeSPpDo7mV"
   },
   "outputs": [],
   "source": [
    "import pprint\n",
    "pp = pprint.PrettyPrinter(indent=4)\n",
    "\n",
    "dados2 = [\n",
    "    ['Jetta Variant', 2003, False],\n",
    "    ['Passat', 1991, False],\n",
    "    ['Crossfox', 1990, False],\n",
    "    ['DS5', 2019, True],\n",
    "    ['Aston Martin DB4', 2006, False],\n",
    "    ['Palio Weekend', 2012, False],\n",
    "    ['A5', 2019, True],\n",
    "    ['Série 3 Cabrio', 2009, False],\n",
    "    ['Dodge Jorney', 2019, False],\n",
    "    ['Carens', 2011, False]\n",
    "]\n",
    "pp.pprint(dados2)"
   ]
  },
  {
   "cell_type": "code",
   "execution_count": null,
   "metadata": {
    "id": "__0VrL1ltTe3"
   },
   "outputs": [],
   "source": [
    "for lista6 in dados2:\n",
    "  print(lista6[2]) # Imprime apenas as 3º variáveis da lista."
   ]
  },
  {
   "attachments": {},
   "cell_type": "markdown",
   "metadata": {
    "id": "NaTfrWrWxP4g"
   },
   "source": [
    "#### Filtro para listas"
   ]
  },
  {
   "cell_type": "code",
   "execution_count": null,
   "metadata": {
    "id": "6JDP8WvEuT2w"
   },
   "outputs": [],
   "source": [
    "zero_km_Y1 = [] # Cria uma lista vazia.\n",
    "for lista7 in dados2:\n",
    "  if(lista7[2] == True): # Serão impressos apenas as linhas da lista cujo 3º item seja True.\n",
    "    zero_km_Y1.append(lista7) # Irá adicionar na lista anteriormente vazia.\n",
    "zero_km_Y1"
   ]
  },
  {
   "attachments": {},
   "cell_type": "markdown",
   "metadata": {
    "id": "8dTeDk6r7QZp"
   },
   "source": [
    "#### List Comprehensions"
   ]
  },
  {
   "cell_type": "code",
   "execution_count": null,
   "metadata": {
    "colab": {
     "base_uri": "https://localhost:8080/"
    },
    "executionInfo": {
     "elapsed": 3,
     "status": "ok",
     "timestamp": 1686339004409,
     "user": {
      "displayName": "Rafael Soares de olivera",
      "userId": "12840280091241343942"
     },
     "user_tz": 180
    },
    "id": "1Vd3_pq5wKIJ",
    "outputId": "f9349cb6-c002-43f0-c457-92d2f9e55739"
   },
   "outputs": [],
   "source": [
    "zero_km_Y2 = [item for item in dados2 if item[2] == True] # Mesmo resultado do algoritmo acima\n",
    "zero_km_Y2"
   ]
  },
  {
   "cell_type": "code",
   "execution_count": null,
   "metadata": {},
   "outputs": [],
   "source": [
    "import pprint\n",
    "pp = pprint.PrettyPrinter(indent=True)\n",
    "\n",
    "copia_dados = [copia for copia in dados2] # Faz uma cópia da lista\n",
    "pp.pprint(copia_dados)"
   ]
  },
  {
   "cell_type": "code",
   "execution_count": null,
   "metadata": {},
   "outputs": [],
   "source": []
  },
  {
   "attachments": {},
   "cell_type": "markdown",
   "metadata": {
    "id": "0vpaMYyM8jBs"
   },
   "source": [
    "#### if - else e if - elif - else"
   ]
  },
  {
   "cell_type": "code",
   "execution_count": null,
   "metadata": {
    "id": "ZJMct6uS8qH7"
   },
   "outputs": [],
   "source": [
    "zero_km_Y, zero_km_N = [], []\n",
    "\n",
    "for lista9 in dados2:\n",
    "  if (lista9[2] == True):\n",
    "    zero_km_Y.append(lista9) # Caso o 3º item da lista seja True, será enviado para lista zero_km_Y;\n",
    "  else:\n",
    "    zero_km_N.append(lista9) # Caso contrário, será enviado para lista zero_km_N;\n",
    "\n",
    "print(zero_km_N)"
   ]
  },
  {
   "cell_type": "code",
   "execution_count": null,
   "metadata": {
    "id": "cQjNA9-AuW9v"
   },
   "outputs": [],
   "source": [
    "A, B, C = [], [], []\n",
    "\n",
    "for lista10 in dados2:\n",
    "  if lista10[1] <= 2000:\n",
    "    A.append(lista10)\n",
    "  elif 2000 < lista10[1] <= 2010: # O comando possui 3 condições.\n",
    "    B.append(lista10)\n",
    "  else:\n",
    "    C.append(lista10)\n",
    "\n",
    "print(f'''Lista A (menor que 2000) = {A}\n",
    "Lista B (menor que 2010) = {B}\n",
    "Lista C (maior que 2010) = {C}''') "
   ]
  },
  {
   "attachments": {},
   "cell_type": "markdown",
   "metadata": {
    "id": "i9M3TG3zduKD"
   },
   "source": [
    "## Numpy"
   ]
  },
  {
   "cell_type": "code",
   "execution_count": null,
   "metadata": {
    "id": "UyRa8fjBuYrA"
   },
   "outputs": [],
   "source": [
    "import numpy as np # Irá importar a biblioteca numpy e poderá ser referenciada como np.\n",
    "np.arange(10) # Gera uma array que vai de 0 a 9"
   ]
  },
  {
   "attachments": {},
   "cell_type": "markdown",
   "metadata": {},
   "source": [
    "### Array - Arranjo com linhas e colunas"
   ]
  },
  {
   "cell_type": "code",
   "execution_count": null,
   "metadata": {
    "id": "IsQRxzg_d7GR"
   },
   "outputs": [],
   "source": [
    "km = np.array([1000, 2300, 4987, 1500]) # Array também são listas com linhas e colunas\n",
    "print(km)\n"
   ]
  },
  {
   "cell_type": "code",
   "execution_count": null,
   "metadata": {},
   "outputs": [],
   "source": [
    "sorted(km, reverse = True)"
   ]
  },
  {
   "cell_type": "code",
   "execution_count": null,
   "metadata": {
    "id": "4YdtOCodfcq8"
   },
   "outputs": [],
   "source": [
    "# Importar dados externos e transforma em um array.\n",
    "km = np.loadtxt(fname = 'Arquivos de apoio/carros-km.txt', dtype=int)\n",
    "print(km)"
   ]
  },
  {
   "cell_type": "code",
   "execution_count": null,
   "metadata": {
    "id": "rhH08et4Cid5"
   },
   "outputs": [],
   "source": [
    "anos = np.loadtxt(fname = 'Arquivos de apoio/carros_anos.txt', dtype= int)\n",
    "anos"
   ]
  },
  {
   "cell_type": "code",
   "execution_count": null,
   "metadata": {
    "id": "wAnMx0bHB_mm"
   },
   "outputs": [],
   "source": [
    "dados = np.array([km, anos]) #Combina os dois arrays\n",
    "dados"
   ]
  },
  {
   "cell_type": "code",
   "execution_count": null,
   "metadata": {
    "id": "NoekrB5UDLT_"
   },
   "outputs": [],
   "source": [
    "km_media = dados[0] / (2019 - dados[1]) # Utilizando arrays é possível escolher qual das listas no array será utilizada.\n",
    "km_media"
   ]
  },
  {
   "cell_type": "code",
   "execution_count": null,
   "metadata": {
    "id": "9WhoUi4yGCu7"
   },
   "outputs": [],
   "source": [
    "dados[1][2] # Retonar dado especificando linha e coluna."
   ]
  },
  {
   "cell_type": "code",
   "execution_count": null,
   "metadata": {
    "id": "bbBfLeVUGKmn"
   },
   "outputs": [],
   "source": [
    "contador = np.arange(10)\n",
    "print(contador)"
   ]
  },
  {
   "cell_type": "code",
   "execution_count": null,
   "metadata": {
    "id": "55drBdLEIU0v"
   },
   "outputs": [],
   "source": [
    "contador[1:4] # Irá mostrar do 2º ao 4º item."
   ]
  },
  {
   "cell_type": "code",
   "execution_count": null,
   "metadata": {
    "id": "ee72cC0nIcgR"
   },
   "outputs": [],
   "source": [
    "contador[1:8:2] # Irá mostrar do 2º ao 8º item, porém irá pular 1 item."
   ]
  },
  {
   "cell_type": "code",
   "execution_count": null,
   "metadata": {
    "id": "Y_SpJwSTJjIh"
   },
   "outputs": [],
   "source": [
    "dados[:, 1:3][0] # Irá mostrar o dado da posição específica, somente da lista 1."
   ]
  },
  {
   "cell_type": "code",
   "execution_count": null,
   "metadata": {
    "id": "Q9QAzgcbJ22c"
   },
   "outputs": [],
   "source": [
    "dados[:, 1:3] # Irá mostrar o dado da posição específica de todas as listas."
   ]
  },
  {
   "cell_type": "code",
   "execution_count": null,
   "metadata": {
    "id": "sRoIMWkfKlAr"
   },
   "outputs": [],
   "source": [
    "contador[contador > 5] # Irá mostrar somente os valores maiores que 5."
   ]
  },
  {
   "cell_type": "code",
   "execution_count": null,
   "metadata": {
    "id": "1gMV84dOKTIs"
   },
   "outputs": [],
   "source": [
    "len(contador[contador > 5]) # Mostrará a quantidade de itens acima do 5."
   ]
  },
  {
   "cell_type": "code",
   "execution_count": null,
   "metadata": {
    "id": "L5t6_HPZKc_j"
   },
   "outputs": [],
   "source": [
    "dados.shape # Retorna uma tupla com as dimensões do array."
   ]
  },
  {
   "cell_type": "code",
   "execution_count": null,
   "metadata": {
    "id": "KK2rK0geNs1e"
   },
   "outputs": [],
   "source": [
    "dados.ndim # Quantidade de dimensões do array, quantidade de conjuntos de dados."
   ]
  },
  {
   "cell_type": "code",
   "execution_count": null,
   "metadata": {
    "id": "O16m1sk1N31M"
   },
   "outputs": [],
   "source": [
    "dados.size # Retorna quantidade de dados no array."
   ]
  },
  {
   "cell_type": "code",
   "execution_count": null,
   "metadata": {
    "id": "Kbi86MCdOFWD"
   },
   "outputs": [],
   "source": [
    "dados.T # Transforma linhas em colunas"
   ]
  },
  {
   "cell_type": "code",
   "execution_count": null,
   "metadata": {
    "id": "RQJl2HkCOQ1n"
   },
   "outputs": [],
   "source": [
    "dados.tolist() # Transforma todo o array em uma única lista."
   ]
  },
  {
   "cell_type": "code",
   "execution_count": null,
   "metadata": {
    "id": "2HyAUlOROazY"
   },
   "outputs": [],
   "source": [
    "contador.reshape((5,2), order='C') # Altera as dimensões do array. ((linhas, colunas), order = 'C' ou 'F'ou 'A') Order é opcional.\n",
    "# Order 'C' (C-like) = último eixo mudando rápido e o primeiro mudando lento"
   ]
  },
  {
   "cell_type": "code",
   "execution_count": null,
   "metadata": {
    "id": "FzO2vqjCO5SQ"
   },
   "outputs": [],
   "source": [
    "contador.reshape((5,2), order='F') # Order 'F' = Fortran-like index, primeiro index mudando mais rápido e o último mudando mais lento"
   ]
  },
  {
   "cell_type": "code",
   "execution_count": null,
   "metadata": {},
   "outputs": [],
   "source": [
    "contador.reshape((5,2), order='A') # Order 'A' = de acordo com a memória"
   ]
  },
  {
   "cell_type": "code",
   "execution_count": null,
   "metadata": {
    "id": "RodNtn1NQ60Q"
   },
   "outputs": [],
   "source": [
    "dados_new = dados.copy() # Cria uma cópia da variável.\n",
    "dados_new"
   ]
  },
  {
   "cell_type": "code",
   "execution_count": null,
   "metadata": {
    "id": "Kl8yUTLTRrbG"
   },
   "outputs": [],
   "source": [
    "dados_new.resize((3, 258), refcheck=False) # Adiciona uma 3ª coluna. Altera a forma e o tamanho do array.\n",
    "dados_new"
   ]
  },
  {
   "cell_type": "code",
   "execution_count": null,
   "metadata": {
    "id": "bwGkQTDwTpk2"
   },
   "outputs": [],
   "source": [
    "dados_new[2] = anos # Adiciona na nova coluna os dados determinados.\n",
    "dados_new"
   ]
  },
  {
   "attachments": {},
   "cell_type": "markdown",
   "metadata": {
    "id": "MDEnkzpj1Xq-"
   },
   "source": [
    "#### Média do Array - Retorna a média dos elementos do array ao longo do eixo especificado."
   ]
  },
  {
   "cell_type": "code",
   "execution_count": null,
   "metadata": {
    "id": "ZHjRpAaSt1Rp"
   },
   "outputs": [],
   "source": [
    "np.mean(dados[:,0]) # Retorna a média dos elementos de todas as linhas, porém apenas da 1ª coluna."
   ]
  },
  {
   "cell_type": "code",
   "execution_count": null,
   "metadata": {
    "id": "dyLtJvaQ1UUS"
   },
   "outputs": [],
   "source": [
    "np.mean(dados, axis = 0)"
   ]
  },
  {
   "attachments": {},
   "cell_type": "markdown",
   "metadata": {
    "id": "zhqsOoe_8f2X"
   },
   "source": [
    "#### Desvio padrão - Retorna o desvio padrão dos elementos do array ao longo do eixo especificado."
   ]
  },
  {
   "cell_type": "code",
   "execution_count": null,
   "metadata": {
    "id": "XS8xI9xv8oZs"
   },
   "outputs": [],
   "source": [
    "np.std(dados[:, 0]) # Média de todos os dados, porém apenas da 1ª coluna."
   ]
  },
  {
   "cell_type": "code",
   "execution_count": null,
   "metadata": {
    "id": "EI4z1KUlCAI7"
   },
   "outputs": [],
   "source": [
    "np.std(dados, axis = 1)"
   ]
  },
  {
   "attachments": {},
   "cell_type": "markdown",
   "metadata": {
    "id": "w_8KfnaoC67D"
   },
   "source": [
    "#### Soma - Retorna a soma dos elementos do array ao longo do eixo especificado."
   ]
  },
  {
   "cell_type": "code",
   "execution_count": null,
   "metadata": {
    "id": "409YokEFDEqe"
   },
   "outputs": [],
   "source": [
    "dados.sum(axis = 1) # Somatória de cada coluna."
   ]
  },
  {
   "cell_type": "code",
   "execution_count": null,
   "metadata": {
    "id": "8jhDxxvyNhgp"
   },
   "outputs": [],
   "source": [
    "np.sum(dados[:, 1])"
   ]
  },
  {
   "attachments": {},
   "cell_type": "markdown",
   "metadata": {},
   "source": [
    "## sets\n",
    "Conjunto que não possui objetos repetidos, utilizado para representar conjuntos matemáticos ou eliminar itens duplicados de um iterável.\n",
    "\n",
    "Utiliza {} para criar sets"
   ]
  },
  {
   "cell_type": "code",
   "execution_count": null,
   "metadata": {},
   "outputs": [],
   "source": [
    "livros = ['Cronicas', 'Guerra', 'Aventuras', 'Cronicas']\n",
    "print(f'{livros}  -  Tipo da variável{type(livros)}')\n",
    "\n",
    "livros1 = set(livros)\n",
    "print(f'{livros1}  -  Tipo da variável{type(livros1)}') "
   ]
  },
  {
   "cell_type": "code",
   "execution_count": null,
   "metadata": {},
   "outputs": [],
   "source": [
    "carros = {'Jetta', 'Passat', 'Crossfox', 'Passat', 'Jetta', 'Fox'} #Já elimina e deixa de forma ordenada\n",
    "print(f'{carros}  -  Tipo da variável = {type(carros)}')\n",
    "print(f'Quantidade de caracteres no set, ignora os caracteres repetidos: {len(carros)}')"
   ]
  },
  {
   "cell_type": "code",
   "execution_count": null,
   "metadata": {},
   "outputs": [],
   "source": [
    "palavra = set('abacaxi')\n",
    "print(palavra)\n",
    "print(sorted(palavra))"
   ]
  },
  {
   "cell_type": "code",
   "execution_count": null,
   "metadata": {},
   "outputs": [],
   "source": [
    "carros = {'Jetta', 'Passat', 'Crossfox', 'Passat', 'Jetta', 'Fox'}\n",
    "for indice, carros in enumerate(carros): # Criar indíce em sets\n",
    "    print(f'{indice}: {carros}')"
   ]
  },
  {
   "cell_type": "code",
   "execution_count": null,
   "metadata": {},
   "outputs": [],
   "source": [
    "conjunto_a = {1, 2, 3}\n",
    "conjunto_b = {3, 4, 5}\n",
    "conjunto_c = {5, 6, 7}\n",
    "conjunto_d = {1, 2, 3, 4, 5, 6, 7, 8, 9}\n",
    "print(f'União de conjuntos: {conjunto_a.union(conjunto_b, conjunto_c)}') # Unir os conjuntos 1, 2 e 3)\n",
    "print(f'Intersecção de conjuntos: {conjunto_a.intersection(conjunto_b)}') # Intersecção dos conjuntos 1 e 2\n",
    "print(f'Diferença entre conjuntos, valores do conjunto A: {conjunto_a.difference(conjunto_b)}') # Diferença entre os conjuntos 1 e 2, valores do conjunto 1\n",
    "print(f'Diferença entre conjuntos, valores do conjunto B: {conjunto_b.difference(conjunto_a)}') # Diferença entre os conjuntos 1 e 2, valores do conjunto 2\n",
    "print(f'Diferença entre conjuntos, valores de todos os conjuntos: {conjunto_a.symmetric_difference(conjunto_b)}') # Diferença entre os conjuntos 1 e 2, valores de ambos os conjuntos\n",
    "print(f'Se o segundo conjunto (Conjunto D) contém o primeiro conjunto (conjunto A): {conjunto_a.issubset(conjunto_d)}')\n",
    "print(f'Se o segundo conjunto (Conjunto A) contém o primeiro conjunto (conjunto D): {conjunto_d.issubset(conjunto_a)}')\n",
    "print(f'Se o primeiro conjunto (Conjunto A) contém o segundo conjunto (conjunto D): {conjunto_a.issuperset(conjunto_d)}')\n",
    "print(f'Se o primeiro conjunto (Conjunto D) contém o segundo conjunto (conjunto A): {conjunto_d.issuperset(conjunto_a)}')\n",
    "print(f'Se todos os conjuntos não possuem, pelo menos, um valor de intersecção (Conjunto A e B): {conjunto_a.isdisjoint(conjunto_d)}')\n",
    "print(f'Se todos os conjuntos não possuem, pelo menos, um valor de intersecção (Conjunto A e C): {conjunto_a.isdisjoint(conjunto_c)}')"
   ]
  },
  {
   "cell_type": "code",
   "execution_count": null,
   "metadata": {},
   "outputs": [],
   "source": [
    "conjunto1 = {25, 56, 98}\n",
    "conjunto2 = {53, 62, 96, 36}\n",
    "\n",
    "print(f'Set inicial: {conjunto1}')\n",
    "\n",
    "conjunto1.add(32) # Acrescenta apenas um valor dentro do set\n",
    "print(f'Adicionado valor 32 no set: {conjunto1}')\n",
    "\n",
    "conjunto1.clear() # Limpa todos os valores armazenados no set\n",
    "print(f'Exclui todos os valores do set: {conjunto1}')\n",
    "\n",
    "print(f'Set inicial: {conjunto2}')\n",
    "\n",
    "conjunto2.discard(53) # Descarta o valor especificado, deve indicar um valor\n",
    "conjunto2.discard(12311) # Mesmo que coloque um valor que não está presente do set não apresentará mensagem de erro\n",
    "print(f'Descartado o valor 53 do set: {conjunto2}')\n",
    "\n",
    "conjunto2.pop() # Descarta o primeiro valor, não deve especificar um valor\n",
    "print(f'Descartado o primeiro valor do set: {conjunto2}')\n",
    "\n",
    "conjunto2.remove(62) # Similar ao comando .discard, porém apresenta mensagem de erro quando coloca valor que não está presente no set\n",
    "print(f'Descartado o valor 62, porém se colocar um valor que não está presente no set mostrará mensagem de erro: {conjunto2}')"
   ]
  },
  {
   "attachments": {},
   "cell_type": "markdown",
   "metadata": {
    "id": "_mpeYw8arnlm"
   },
   "source": [
    "## Tuplas\n",
    "São sequencias imutáveis que são utilizadas para armazenar coleções de itens, geralmente heterôgeneos.\n",
    "\n",
    "Utiliza () para criar tuplas"
   ]
  },
  {
   "cell_type": "code",
   "execution_count": null,
   "metadata": {
    "id": "c1T1UJTA0XpA"
   },
   "outputs": [],
   "source": [
    "nomes_carros = ('Jetta', 'Passat', 'Crossfox','DS5',)\n",
    "print(type(nomes_carros))\n",
    "nomes_carros[1]# É possível escolher qual das informações da variável que aparecerá.\n"
   ]
  },
  {
   "cell_type": "code",
   "execution_count": null,
   "metadata": {
    "id": "Uhqih7x4BZGw"
   },
   "outputs": [],
   "source": [
    "_, A, B, *_ = nomes_carros # Irá identificar informações dentro das tuplas com outras variáveis. Adicionando o *_ irá indicar que todos os outros dados serão _.\n",
    "A"
   ]
  },
  {
   "cell_type": "code",
   "execution_count": null,
   "metadata": {
    "id": "WZTQt4Cc1LEn"
   },
   "outputs": [],
   "source": [
    "nomes_carros[1:3] # Aparecerá o 2º e o 3º item da variável."
   ]
  },
  {
   "cell_type": "code",
   "execution_count": null,
   "metadata": {
    "id": "4OsGr5HZ1XVI"
   },
   "outputs": [],
   "source": [
    "carros = (\n",
    "    ('Jetta Variant', 'Motor 4.0 Turbo', 2003, False, \n",
    "     ('Rodas de liga', 'Travas elétricas', 'Piloto automático')\n",
    "     ),\n",
    "    ('Passat','Motor Diesel',1991,True,\n",
    "     ('Central multimídia', 'Teto panorâmico', 'Freios ABS')\n",
    "     )\n",
    "    )\n",
    "print(type(carros))\n",
    "print(carros)"
   ]
  },
  {
   "cell_type": "code",
   "execution_count": null,
   "metadata": {
    "id": "q-EWkHFO2LC1"
   },
   "outputs": [],
   "source": [
    "carros[0][2] # Primeira lista e 3º item."
   ]
  },
  {
   "cell_type": "code",
   "execution_count": null,
   "metadata": {
    "id": "FqLHSeJZ2a03"
   },
   "outputs": [],
   "source": [
    "carros[-1][-1][-1] # Última lista, última lista dentro da mesma lista e último item."
   ]
  },
  {
   "cell_type": "code",
   "execution_count": null,
   "metadata": {
    "id": "Qco3hFoz2mwA"
   },
   "outputs": [],
   "source": [
    "carros[0][-1][:2] # Primeira lista, último lista dentro da lista e até o 2º item."
   ]
  },
  {
   "attachments": {},
   "cell_type": "markdown",
   "metadata": {
    "id": "OqN8C6tlFJss"
   },
   "source": [
    "### ZIP()\n",
    "Retorna um objeto comprimido, que é um iterador de tuplas. Os primeiros itens das tuplas zipadas serão pareadas na mesma tupla."
   ]
  },
  {
   "cell_type": "code",
   "execution_count": null,
   "metadata": {
    "id": "E5zbBcFAHmzp"
   },
   "outputs": [],
   "source": [
    "nomes_carros = ('Jetta', 'Passat', 'Crossfox','DS5',)\n",
    "\n",
    "carros = (\n",
    "    ('Jetta Variant', 'Motor 4.0 Turbo', 2003, False, \n",
    "     ('Rodas de liga', 'Travas elétricas', 'Piloto automático')\n",
    "     ),\n",
    "    ('Passat','Motor Diesel',1991,True,\n",
    "     ('Central multimídia', 'Teto panorâmico', 'Freios ABS')\n",
    "     )\n",
    "    )\n",
    "\n",
    "valores = (1000, 2000, 3000, 4000)\n",
    "\n",
    "zip(nomes_carros, valores) # Comprimi os conjuntos de tuplas em um único conjunto de tuplas.\n",
    "list(zip(nomes_carros, valores)) # Adicionando o comando list é possível ver que as informações das tuplas estão pareadas de acordo com as suas posições."
   ]
  },
  {
   "cell_type": "code",
   "execution_count": null,
   "metadata": {
    "id": "YKwJhw4CIO--"
   },
   "outputs": [],
   "source": [
    "for item in zip(nomes_carros, valores): # Cria as tuplas a partir do for.\n",
    "  print(item)"
   ]
  },
  {
   "cell_type": "code",
   "execution_count": null,
   "metadata": {
    "id": "s8MI1fsnPd92"
   },
   "outputs": [],
   "source": [
    "for carros, valor in zip(nomes_carros, valores): # Comando irá desempacotar o zip.\n",
    "  print(carros, valor)"
   ]
  },
  {
   "cell_type": "code",
   "execution_count": null,
   "metadata": {
    "id": "YaJKCWY7UiZ1"
   },
   "outputs": [],
   "source": [
    "for carros, valor in zip(nomes_carros, valores): # Também utilizado para discriminar as informações.\n",
    "  if(valor > 2000):\n",
    "    print(carros)"
   ]
  },
  {
   "attachments": {},
   "cell_type": "markdown",
   "metadata": {
    "id": "J8hvwxj2YezI"
   },
   "source": [
    "## Dicionários\n",
    "São estruturas de dados que representam um tipo de mapeamento. Mapeamento são coleções de associações entre pares de valores onde o primeiro elemento do par é conhecido como chave (key) e o sengundo como valor (value). "
   ]
  },
  {
   "cell_type": "code",
   "execution_count": null,
   "metadata": {
    "colab": {
     "base_uri": "https://localhost:8080/"
    },
    "executionInfo": {
     "elapsed": 278,
     "status": "ok",
     "timestamp": 1686356278336,
     "user": {
      "displayName": "Rafael Soares de olivera",
      "userId": "12840280091241343942"
     },
     "user_tz": 180
    },
    "id": "u8ft9qmqZQG-",
    "outputId": "e12c69f4-6d84-4657-d936-d20893f59746"
   },
   "outputs": [],
   "source": [
    "carros = ['Jetta Variant', 'Passat', 'CrossFox']\n",
    "valores = [88078.64, 106161.94, 72832.16]\n",
    "x = [1, 2, 3]\n",
    "\n",
    "print(f'Posição do item dentro da variável: {carros.index(\"Passat\")}') # Comando para mapear duas tuplas, porém não é indicado porque é muito demorado.\n",
    "print(f'Valor da variável \"valores\" na mesma posição da variável \"carros\": {valores[carros.index(\"Passat\")]}') # Imprime o valor do segundo dicionário que corresponde ao índice da primeira lista"
   ]
  },
  {
   "cell_type": "code",
   "execution_count": null,
   "metadata": {
    "colab": {
     "base_uri": "https://localhost:8080/"
    },
    "executionInfo": {
     "elapsed": 273,
     "status": "ok",
     "timestamp": 1686356289254,
     "user": {
      "displayName": "Rafael Soares de olivera",
      "userId": "12840280091241343942"
     },
     "user_tz": 180
    },
    "id": "Jp2tJGo3bSz7",
    "outputId": "1321891a-265c-425c-8ec6-3d422acf21a9"
   },
   "outputs": [],
   "source": [
    "list(zip(carros, valores))\n",
    "dados = dict(zip(carros, valores)) # Uma forma mais simples de mapear os dados. Criação de um dicionário a partir de diversas variáveis\n",
    "dados"
   ]
  },
  {
   "attachments": {},
   "cell_type": "markdown",
   "metadata": {
    "id": "8EfoEV1CkpkV"
   },
   "source": [
    "### Dict[]\n",
    "Retorna o valor correspondente à chave (key) no dicionário."
   ]
  },
  {
   "cell_type": "code",
   "execution_count": null,
   "metadata": {
    "id": "erP_5ZHbkdkn"
   },
   "outputs": [],
   "source": [
    "dados['Passat']"
   ]
  },
  {
   "attachments": {},
   "cell_type": "markdown",
   "metadata": {
    "id": "aOZK_TsNlOiQ"
   },
   "source": [
    "### key in dict\n",
    "Retorna True se a chave(key) for encontrada no dicionário."
   ]
  },
  {
   "cell_type": "code",
   "execution_count": null,
   "metadata": {
    "id": "YSZjCIiOlW9V"
   },
   "outputs": [],
   "source": [
    "'Passat' in dados"
   ]
  },
  {
   "cell_type": "code",
   "execution_count": null,
   "metadata": {
    "id": "aFKhgt02lbbJ"
   },
   "outputs": [],
   "source": [
    "'Passat' not in dados"
   ]
  },
  {
   "attachments": {},
   "cell_type": "markdown",
   "metadata": {
    "id": "UsxVGrMVmlqB"
   },
   "source": [
    "### len(dict)\n",
    "Retorna o número de itens do dicionário."
   ]
  },
  {
   "cell_type": "code",
   "execution_count": null,
   "metadata": {
    "id": "wwfP8hpEmqjc"
   },
   "outputs": [],
   "source": [
    "len(dados)"
   ]
  },
  {
   "attachments": {},
   "cell_type": "markdown",
   "metadata": {
    "id": "-fe4hd6-myOF"
   },
   "source": [
    "### dict[key] = value\n",
    "Altera o valor de uma chave do dicionário, caso não encontre a chave irá incluir o item ao dicionário."
   ]
  },
  {
   "cell_type": "code",
   "execution_count": null,
   "metadata": {
    "id": "XKdWcB7UmyB0"
   },
   "outputs": [],
   "source": [
    "dados[\"DS5\"] = 100000 # Inclusão do item 'DS5': 100000\n",
    "\n",
    "dados[\"CrossFox\"] = 73000 # Altera o valor da chave para '73000'\n",
    "\n",
    "print(dados)"
   ]
  },
  {
   "attachments": {},
   "cell_type": "markdown",
   "metadata": {
    "id": "NoYun7VgmvhC"
   },
   "source": [
    "### dict.update()\n",
    "Adiciona um novo item ao dicionário"
   ]
  },
  {
   "cell_type": "code",
   "execution_count": null,
   "metadata": {},
   "outputs": [],
   "source": [
    "dados.update({'Fusca': 10000}) # Similar ao exemplo acima, só que com uso de comando .update\n",
    "dados"
   ]
  },
  {
   "attachments": {},
   "cell_type": "markdown",
   "metadata": {
    "id": "dopdt1ZUnKOu"
   },
   "source": [
    "### del dict[key]\n",
    "Remove o item de chave[key] do dicionário."
   ]
  },
  {
   "cell_type": "code",
   "execution_count": null,
   "metadata": {
    "id": "4hp03hEbmx6E"
   },
   "outputs": [],
   "source": [
    "del dados['CrossFox']\n",
    "dados"
   ]
  },
  {
   "attachments": {},
   "cell_type": "markdown",
   "metadata": {
    "id": "EikkY6T3IO1c"
   },
   "source": [
    "### disct.copy()\n",
    "Cria uma cópia ao dicionário."
   ]
  },
  {
   "cell_type": "code",
   "execution_count": null,
   "metadata": {
    "colab": {
     "base_uri": "https://localhost:8080/"
    },
    "executionInfo": {
     "elapsed": 289,
     "status": "ok",
     "timestamp": 1628130451375,
     "user": {
      "displayName": "Rafael Soares de olivera",
      "photoUrl": "",
      "userId": "12840280091241343942"
     },
     "user_tz": 180
    },
    "id": "taFQY3DZIS5R",
    "outputId": "afd3548f-e4fb-43e6-e19d-93484f109379"
   },
   "outputs": [],
   "source": [
    "dados2 = dados.copy()\n",
    "dados2"
   ]
  },
  {
   "cell_type": "code",
   "execution_count": null,
   "metadata": {
    "id": "4kMhvakwIfw6"
   },
   "outputs": [],
   "source": [
    "del dados2['Fusca']\n",
    "print(f'Original: {dados}')\n",
    "print(f'Cópia alterada: {dados2}')"
   ]
  },
  {
   "attachments": {},
   "cell_type": "markdown",
   "metadata": {
    "id": "NoBgTQzwI2Oq"
   },
   "source": [
    "### dict.pop(key[, default])\n",
    "Se a chave for encontrada no dicionário, o item é removido e seu valor é retornado. Caso contrário, o valor especificado como default é retornado. Se o valor default não for fornecido e a chave for encontrada no dicionário um erro será gerado."
   ]
  },
  {
   "cell_type": "code",
   "execution_count": null,
   "metadata": {
    "id": "h1mFp1mBJO1p"
   },
   "outputs": [],
   "source": [
    "dados2.pop('Passat') # Retorna o valor da key especificada."
   ]
  },
  {
   "cell_type": "code",
   "execution_count": null,
   "metadata": {
    "id": "XWWCjiSKKF-M"
   },
   "outputs": [],
   "source": [
    "dados2.pop('CrossFox', 'Não encontrada') # Caso não encontre os valores da key especificada, a key é retornada"
   ]
  },
  {
   "attachments": {},
   "cell_type": "markdown",
   "metadata": {
    "id": "ddIqNa2kKY5Z"
   },
   "source": [
    "### dict.clear()\n",
    "Remove todos os itens do dicionário."
   ]
  },
  {
   "cell_type": "code",
   "execution_count": null,
   "metadata": {
    "id": "iKKkhmaMKd3h"
   },
   "outputs": [],
   "source": [
    "dados2.clear()\n",
    "dados2"
   ]
  },
  {
   "attachments": {},
   "cell_type": "markdown",
   "metadata": {
    "id": "HXyv0FRcQzKz"
   },
   "source": [
    "### dict.keys()\n",
    "Retorna uma lista contendo as chaves (keys) do dicionário."
   ]
  },
  {
   "cell_type": "code",
   "execution_count": null,
   "metadata": {
    "id": "XgwidiGcQ7GU"
   },
   "outputs": [],
   "source": [
    "dados.keys() # Sem os valores."
   ]
  },
  {
   "attachments": {},
   "cell_type": "markdown",
   "metadata": {
    "id": "46tchSu8R7eR"
   },
   "source": [
    "### dict.values()\n",
    "Retorna uma lista com todos os valores (values) do dicionário."
   ]
  },
  {
   "cell_type": "code",
   "execution_count": null,
   "metadata": {
    "id": "87K_oJYuSC-q"
   },
   "outputs": [],
   "source": [
    "dados.values() # Apenas os valores."
   ]
  },
  {
   "attachments": {},
   "cell_type": "markdown",
   "metadata": {
    "id": "V0mdpX07T1nN"
   },
   "source": [
    "### dict.items()\n",
    "Retorna uma lista contendo uma tupla para cada chave-valor (key-value) do dicionário."
   ]
  },
  {
   "cell_type": "code",
   "execution_count": null,
   "metadata": {
    "id": "bRHSFq0bUIt5"
   },
   "outputs": [],
   "source": [
    "dados.items()"
   ]
  },
  {
   "cell_type": "code",
   "execution_count": null,
   "metadata": {
    "id": "8P9ifcw1inBk"
   },
   "outputs": [],
   "source": [
    "dados = {'Jetta Variant': 88078.64, 'Passat': 106161.94, 'Crossfox': 72832.16} # Forma built-in de criar um dicionário\n",
    "dados"
   ]
  },
  {
   "cell_type": "code",
   "execution_count": null,
   "metadata": {
    "id": "ZBjTqeEpjYXl"
   },
   "outputs": [],
   "source": [
    "sum(dados.values()) # Comando irá fazer a soma dos valores."
   ]
  },
  {
   "attachments": {},
   "cell_type": "markdown",
   "metadata": {},
   "source": [
    "### Dicionário alinhado"
   ]
  },
  {
   "cell_type": "code",
   "execution_count": null,
   "metadata": {},
   "outputs": [],
   "source": [
    "dicionario = {\n",
    "    \"Tipo 1\": {'Modelo': \"X\", 'Marca': \"Z\", 'Classificação': \"Y\"},\n",
    "    \"Tipo 2\": {'Modelo': \"XX\", 'Marca': \"ZZ\", 'Classificação': \"YY\"},\n",
    "    \"Tipo 3\": {'Modelo': \"XXX\", 'Marca': \"ZZZ\", 'Classificação': \"YYY\"}\n",
    "}\n",
    "\n",
    "print(dicionario)\n",
    "dicionario[\"Tipo 1\"][\"Marca\"]"
   ]
  },
  {
   "cell_type": "code",
   "execution_count": null,
   "metadata": {},
   "outputs": [],
   "source": [
    "for chave, valor in dicionario.items():\n",
    "    print(chave, valor)"
   ]
  },
  {
   "cell_type": "code",
   "execution_count": null,
   "metadata": {},
   "outputs": [],
   "source": [
    "print(dicionario.fromkeys(['Modelo', 'Marca'])) # Cria chaves sem valores\n",
    "print(dicionario.fromkeys(['Modelo', 'Marca'], 'Vazio')) # Cria chaves preenchidas com \"Vazio\""
   ]
  },
  {
   "cell_type": "code",
   "execution_count": null,
   "metadata": {},
   "outputs": [],
   "source": [
    "print(dicionario.get('Tipo 1')) # Busca os valores da chave informada\n",
    "print(dicionario.get('Chave')) # Caso não encontre apenas mostra o valor 'none, ao contrário do 'dicionario[\"chave\"]' que irá retornar uma mensagem de erro e para o programa"
   ]
  },
  {
   "cell_type": "code",
   "execution_count": null,
   "metadata": {},
   "outputs": [],
   "source": [
    "dicionario.pop('Tipo 4', {'Não achou'}) # Irá retornar o que não foi apagado, caso não encontre irá retornar o valor do {}"
   ]
  },
  {
   "cell_type": "code",
   "execution_count": null,
   "metadata": {},
   "outputs": [],
   "source": [
    "dicionario.popitem() # Irá excluir seguindo a ordem e apresenta erro caso não encontre o item"
   ]
  },
  {
   "cell_type": "code",
   "execution_count": null,
   "metadata": {},
   "outputs": [],
   "source": [
    "x = \"Tipo 1\" in dicionario\n",
    "print(x)\n",
    "\n",
    "y = \"Z\" in dicionario[\"Tipo 1\"][\"Marca\"]\n",
    "print(y)"
   ]
  },
  {
   "cell_type": "code",
   "execution_count": null,
   "metadata": {},
   "outputs": [],
   "source": [
    "dados = {'Jetta Variant': 88078.64, 'Passat': 106161.94, 'Crossfox': 72832.16}\n",
    "\n",
    "dados.setdefault('Fox', 60000) # Caso encontre a chave irá alterar o valor, no contrário irá criar um item com esses dados\n",
    "\n",
    "print(dados)"
   ]
  },
  {
   "cell_type": "markdown",
   "metadata": {},
   "source": [
    "## groupby"
   ]
  },
  {
   "cell_type": "code",
   "execution_count": null,
   "metadata": {},
   "outputs": [],
   "source": [
    "from itertools import groupby\n",
    "import pprint\n",
    "pp = pprint.PrettyPrinter(width=40,indent=True)\n",
    "\n",
    "alunos = [\n",
    "    {'nome': 'Luiz', 'nota': 'A'},\n",
    "    {'nome': 'Letícia', 'nota': 'B'},\n",
    "    {'nome': 'Fabrício', 'nota': 'A'},\n",
    "    {'nome': 'Rosemary', 'nota': 'C'},\n",
    "    {'nome': 'Joana', 'nota': 'D'},\n",
    "    {'nome': 'João', 'nota': 'A'},\n",
    "    {'nome': 'Eduardo', 'nota': 'B'},\n",
    "    {'nome': 'André', 'nota': 'A'},\n",
    "    {'nome': 'Anderson', 'nota': 'C'},\n",
    "]\n",
    "\n",
    "def ordena(aluno):\n",
    "    return aluno['nota']\n",
    "\n",
    "alunos_por_nota = sorted(alunos, key=ordena)\n",
    "grupos = groupby(alunos_por_nota,key=ordena)\n",
    "\n",
    "for chave, grupo in grupos:\n",
    "    pp.pprint(chave)\n",
    "    pp.pprint(list(grupo))\n",
    "    print()\n"
   ]
  },
  {
   "cell_type": "markdown",
   "metadata": {},
   "source": [
    "## map"
   ]
  },
  {
   "cell_type": "code",
   "execution_count": null,
   "metadata": {},
   "outputs": [],
   "source": [
    "from functools import partial\n",
    "\n",
    "def print_iter(iterator):\n",
    "    print(*list(iterator), sep='\\n')\n",
    "    print()\n",
    "    \n",
    "produtos = [\n",
    "    {'nome': 'Produto 5', 'preco': 10.00},\n",
    "    {'nome': 'Produto 1', 'preco': 22.32},\n",
    "    {'nome': 'Produto 3', 'preco': 10.11},\n",
    "    {'nome': 'Produto 2', 'preco': 105.87},\n",
    "    {'nome': 'Produto 4', 'preco': 69.90},\n",
    "]\n",
    "\n",
    "def aumentar_porcentagem(valor, porcentagem):\n",
    "    return round(valor * porcentagem, 2)\n",
    "\n",
    "aumentar_dez_porcento = partial(aumentar_porcentagem, porcentagem = 1.1)\n",
    "\n",
    "def muda_preco_de_produtos(produto):\n",
    "    return {\n",
    "        **produto, 'preco':aumentar_dez_porcento(produto['preco'])\n",
    "    }\n",
    "\n",
    "novos_produtos = map(\n",
    "    muda_preco_de_produtos,\n",
    "    produtos\n",
    ")\n",
    "\n",
    "print_iter(produtos)\n",
    "print_iter(novos_produtos)"
   ]
  },
  {
   "cell_type": "code",
   "execution_count": null,
   "metadata": {},
   "outputs": [],
   "source": [
    "print(\n",
    "    list(map(\n",
    "        lambda x: x * 3,\n",
    "        [1,2,3,4]\n",
    "    ))\n",
    ")"
   ]
  },
  {
   "cell_type": "markdown",
   "metadata": {},
   "source": [
    "## filter"
   ]
  },
  {
   "cell_type": "code",
   "execution_count": null,
   "metadata": {},
   "outputs": [],
   "source": [
    "def print_iter(iterator):\n",
    "    print(*list(iterator), sep='\\n')\n",
    "    print()\n",
    "    \n",
    "produtos = [\n",
    "    {'nome': 'Produto 5', 'preco': 10.00},\n",
    "    {'nome': 'Produto 1', 'preco': 22.32},\n",
    "    {'nome': 'Produto 3', 'preco': 10.11},\n",
    "    {'nome': 'Produto 2', 'preco': 105.87},\n",
    "    {'nome': 'Produto 4', 'preco': 69.90},\n",
    "]\n",
    "\n",
    "filtro = [p for p in produtos \n",
    "          if p['preco'] > 30]\n",
    "\n",
    "filtro_filter = filter(\n",
    "    lambda p: p['preco'] > 30,\n",
    "    produtos\n",
    ")\n",
    "\n",
    "def filtrar_preco(produto):\n",
    "    return produto['preco'] > 30\n",
    "\n",
    "filtro_filter_def = list(filter(filtrar_preco, produtos))\n",
    "\n",
    "print_iter(filtro)\n",
    "print_iter(filtro_filter)\n",
    "print_iter(filtro_filter_def)"
   ]
  },
  {
   "cell_type": "markdown",
   "metadata": {},
   "source": [
    "## reduce"
   ]
  },
  {
   "cell_type": "code",
   "execution_count": null,
   "metadata": {},
   "outputs": [],
   "source": [
    "from functools import reduce\n",
    "\n",
    "produtos = [\n",
    "    {'nome': 'Produto 5', 'preco': 10.00},\n",
    "    {'nome': 'Produto 1', 'preco': 22.32},\n",
    "    {'nome': 'Produto 3', 'preco': 10.11},\n",
    "    {'nome': 'Produto 2', 'preco': 105.87},\n",
    "    {'nome': 'Produto 4', 'preco': 69.90},\n",
    "]\n",
    "\n",
    "total = 0 \n",
    "for p in produtos:\n",
    "    total += p['preco']\n",
    "    \n",
    "total_sum = sum([p['preco'] for p in produtos])\n",
    "\n",
    "# funcao reduce\n",
    "total_reduce = round(reduce(\n",
    "    lambda ac,p: ac + p['preco'],\n",
    "    produtos,\n",
    "    0\n",
    "),2)\n",
    "\n",
    "# Usando a função reduce com def\n",
    "def funcao_reduce(acumulador,produto):\n",
    "    total = acumulador + produto['preco']\n",
    "    return round(total,2)\n",
    "\n",
    "total_reduce_def = reduce(\n",
    "    funcao_reduce,\n",
    "    produtos,\n",
    "    0\n",
    ")\n",
    "\n",
    "print(round(total,2))\n",
    "print(round(total_sum,2))\n",
    "print(total_reduce)\n",
    "print(total_reduce_def)"
   ]
  },
  {
   "cell_type": "markdown",
   "metadata": {},
   "source": [
    "## Funções recursivas e recursividade"
   ]
  },
  {
   "cell_type": "code",
   "execution_count": null,
   "metadata": {},
   "outputs": [],
   "source": [
    "# Funções que podem se chamar de volta\n",
    "# Úteis para dividir problemas grandes em partes menores\n",
    "# Toda função recursiva deve ter:\n",
    "# - Um problema que possa ser dividido em partes menores\n",
    "# - Um caso recursivo que resolve o pequeno problema\n",
    "# - Um caso base que pode parar a recursão\n",
    "\n",
    "def recursiva(inicio=0, fim=4):\n",
    "    if inicio >= fim:\n",
    "        return fim\n",
    "    inicio +=1\n",
    "    return recursiva(inicio,fim)\n",
    "\n",
    "recursiva()"
   ]
  },
  {
   "cell_type": "code",
   "execution_count": null,
   "metadata": {},
   "outputs": [],
   "source": [
    "def factorial(n):\n",
    "    if n == 1 or n == 0:\n",
    "        return 1\n",
    "    \n",
    "    return (n * factorial(n-1))\n",
    "\n",
    "factorial(5)"
   ]
  },
  {
   "cell_type": "code",
   "execution_count": null,
   "metadata": {},
   "outputs": [],
   "source": [
    "import sys\n",
    "sys.setrecursionlimit(1004) # Aumenta o limite da recursão"
   ]
  },
  {
   "attachments": {},
   "cell_type": "markdown",
   "metadata": {
    "id": "D5ohsfEglKOa"
   },
   "source": [
    "## def()\n",
    "Definindo funções sem e com parâmetros"
   ]
  },
  {
   "attachments": {},
   "cell_type": "markdown",
   "metadata": {
    "id": "HF4nh0eolQc_"
   },
   "source": [
    "### Funções sem parâmetros"
   ]
  },
  {
   "cell_type": "code",
   "execution_count": null,
   "metadata": {
    "id": "U_yyIwi4lWgZ"
   },
   "outputs": [],
   "source": [
    "def media():\n",
    "  valor = (1+2+3) / 3\n",
    "  print(valor)\n",
    "media()"
   ]
  },
  {
   "cell_type": "code",
   "execution_count": null,
   "metadata": {},
   "outputs": [],
   "source": [
    "salario = 2000\n",
    "\n",
    "def salario_bonus(bonus, lista):\n",
    "    global salario # Necessário para obter um variável declarada que está fora da função. Não é recomendado\n",
    "    lista.append(2)\n",
    "    salario += bonus\n",
    "    return salario\n",
    "\n",
    "lista = [1]\n",
    "salario_com_bonus = salario_bonus(500, lista)\n",
    "print(salario_com_bonus)\n",
    "print(lista)"
   ]
  },
  {
   "attachments": {},
   "cell_type": "markdown",
   "metadata": {
    "id": "6pGFdzrDl7aL"
   },
   "source": [
    "### Funções com parâmetros"
   ]
  },
  {
   "cell_type": "code",
   "execution_count": null,
   "metadata": {
    "id": "Dt_JQ6xElyOG"
   },
   "outputs": [],
   "source": [
    "def media(a, b, c):\n",
    "  valor = (a+b+c) / 3\n",
    "  print(valor)\n",
    "media(1,2,3)"
   ]
  },
  {
   "cell_type": "code",
   "execution_count": null,
   "metadata": {
    "id": "1NZIRmALmbXX"
   },
   "outputs": [],
   "source": [
    "def media(lista): # Código irá fazer a média dos valores das variáveis, sendo necessário apenas alimentar as variáveis.\n",
    "  valor = sum(lista) / len(lista)\n",
    "  print(valor)\n",
    "  \n",
    "media([1, 2, 3, 4, 5, 6, 7, 8, 9])"
   ]
  },
  {
   "cell_type": "code",
   "execution_count": null,
   "metadata": {},
   "outputs": [],
   "source": [
    "def media(*args): # *args irá dizer que a entrada não é apenas um valor, pode ser uma lista\n",
    "  valor = sum(*args) / len(*args)\n",
    "  print(valor)\n",
    "\n",
    "lista1 = [1, 2, 3, 4, 5, 6, 7, 8, 9]\n",
    "\n",
    "media(lista1)"
   ]
  },
  {
   "cell_type": "code",
   "execution_count": null,
   "metadata": {},
   "outputs": [],
   "source": [
    "def criando_listas(nome,lista = None):\n",
    "    if lista is None:\n",
    "        lista = []\n",
    "    lista.append(nome)\n",
    "    return lista\n",
    "\n",
    "lista0 = []\n",
    "lista1 = criando_listas('lista1',lista0) # Cria uma lista a partir de uma lista já criada\n",
    "\n",
    "lista2 = criando_listas('lista2') # Cria uma lista a partir somente da função\n",
    "criando_listas('lista2 adição',lista2) # Atualização da lista\n",
    "\n",
    "print(lista1,lista2)   "
   ]
  },
  {
   "attachments": {},
   "cell_type": "markdown",
   "metadata": {
    "id": "DKMexhzFurlF"
   },
   "source": [
    "#### Funções que retornam mais de um valor"
   ]
  },
  {
   "cell_type": "code",
   "execution_count": null,
   "metadata": {
    "id": "tJYGVkTAuvnu"
   },
   "outputs": [],
   "source": [
    "def media(lista):\n",
    "  valor = sum(lista) / len(lista)\n",
    "  return(valor, len(lista))\n",
    "media([1, 2, 3, 4, 5, 6, 7, 8, 9]) # Utiliza apenas uam variável para retornar mais de uma variável."
   ]
  },
  {
   "cell_type": "code",
   "execution_count": null,
   "metadata": {
    "id": "lYHlYqPwvA7-"
   },
   "outputs": [],
   "source": [
    "def media(*args):\n",
    "    valor = sum(*args) / len(*args)\n",
    "    print(*args, valor, sep = '\\n')\n",
    "\n",
    "lista1 = [1, 2, 3, 4, 5, 6, 7, 8, 9]\n",
    "\n",
    "media(lista)"
   ]
  },
  {
   "cell_type": "markdown",
   "metadata": {},
   "source": [
    "#### Adiando funções"
   ]
  },
  {
   "cell_type": "code",
   "execution_count": null,
   "metadata": {},
   "outputs": [],
   "source": [
    "def soma(x,y):\n",
    "    return x + y\n",
    "\n",
    "def multiplica(x,y):\n",
    "    return x * y\n",
    "\n",
    "def executa(funcao, x):\n",
    "    def interna(y): # irá criar uma função que irá receber outro valor\n",
    "        return funcao(x,y)\n",
    "    return interna\n",
    "\n",
    "soma_com_cinco = executa(soma,5) # irá receber os valores de 'funcao' e 'x' da função executa, porém não irá gerar valor.\n",
    "multiplica_por_dez = executa(multiplica, 10)\n",
    "\n",
    "print(soma_com_cinco(10),multiplica_por_dez(5), sep='|') # Fornece os valores de y da função executa"
   ]
  },
  {
   "cell_type": "markdown",
   "metadata": {},
   "source": [
    "#### Variáveis locais e nonlocal"
   ]
  },
  {
   "cell_type": "code",
   "execution_count": null,
   "metadata": {},
   "outputs": [],
   "source": [
    "def fora(x):\n",
    "    a = x\n",
    "    \n",
    "    def dentro():\n",
    "        print(locals()) # Retorna um dicionário com as variáveis locais e o valor atribuido\n",
    "        print(dentro.__code__.co_freevars) # Retorna as variáveis locais\n",
    "        return a\n",
    "    return dentro\n",
    "\n",
    "dentro1 = fora(10)\n",
    "dentro2 = fora(20)\n",
    "\n",
    "print(dentro1(),dentro2())"
   ]
  },
  {
   "cell_type": "code",
   "execution_count": null,
   "metadata": {},
   "outputs": [],
   "source": [
    "def concatenar(x):\n",
    "    a = x\n",
    "    def interno(y):\n",
    "        return a + y\n",
    "    return interno\n",
    "\n",
    "palavra1 = concatenar('conca')\n",
    "\n",
    "print(palavra1('tenar'))\n",
    "print(palavra1('tenei'))"
   ]
  },
  {
   "cell_type": "code",
   "execution_count": null,
   "metadata": {},
   "outputs": [],
   "source": [
    "def concatenar(x):\n",
    "    a = x\n",
    "    def interno(y):\n",
    "        nonlocal a # irá definir a variável não local\n",
    "        a += y\n",
    "        return a\n",
    "    return interno\n",
    "\n",
    "palavra1 = concatenar('conca')\n",
    "palavra2 = concatenar('conca')\n",
    "\n",
    "print(palavra1('tenar'))\n",
    "print(palavra1('tenar')) # irá armazenar o valor da primeira interação e somar com as próximas\n",
    "print(palavra2('tenei'))"
   ]
  },
  {
   "cell_type": "markdown",
   "metadata": {},
   "source": [
    "#### Funções decoradoras e decoradores"
   ]
  },
  {
   "cell_type": "code",
   "execution_count": null,
   "metadata": {},
   "outputs": [],
   "source": [
    "# Decorar = Adicionar / Remover / Restringir / Alterar\n",
    "# Funções decoradoras são funções que decoram outras funções\n",
    "# Decoradores são usados para fazer o Python usar as funções decoradoras em outras funções\n",
    "# Decoradores são \"Syntax Sugar\"\n",
    "\n",
    "def criar_funcao(func):\n",
    "    def interna(*args, **kwargs):\n",
    "        print('Vou te decorar')\n",
    "        for arg in args:\n",
    "            e_string(arg)\n",
    "        resultado = func(*args, **kwargs)\n",
    "        print(f'O seu resultado foi {resultado}')\n",
    "        print('Ok, agora você foi decorada')\n",
    "        return resultado\n",
    "    return interna\n",
    "\n",
    "def inverte_string(string):\n",
    "    return string[::-1]\n",
    "\n",
    "def e_string(param):\n",
    "    if not isinstance(param, str):\n",
    "        raise TypeError('param deve ser uma string')\n",
    "\n",
    "inverte_string_checando_parametro = criar_funcao(inverte_string)\n",
    "invertida = inverte_string_checando_parametro('String')\n",
    "print(invertida)"
   ]
  },
  {
   "cell_type": "code",
   "execution_count": null,
   "metadata": {},
   "outputs": [],
   "source": [
    "def criar_funcao(func):\n",
    "    def interna(*args, **kwargs):\n",
    "        print('Vou te decorar')\n",
    "        for arg in args:\n",
    "            e_string(arg)\n",
    "        resultado = func(*args, **kwargs)\n",
    "        print(f'O seu resultado foi {resultado}')\n",
    "        print('Ok, agora você foi decorada')\n",
    "        return resultado\n",
    "    return interna\n",
    "\n",
    "@criar_funcao\n",
    "def inverte_string(string):\n",
    "    return string[::-1]\n",
    "\n",
    "def e_string(param):\n",
    "    if not isinstance(param, str):\n",
    "        raise TypeError('param deve ser uma string')\n",
    "    \n",
    "invertida = inverte_string_checando_parametro('String')\n",
    "print(invertida)"
   ]
  },
  {
   "cell_type": "code",
   "execution_count": null,
   "metadata": {},
   "outputs": [],
   "source": [
    "def decoradora(func):\n",
    "    print('Decoradora 1')\n",
    "    \n",
    "    def aninhada(*args, **kwargs):\n",
    "        print('Aninhada')\n",
    "        res = func(*args, **kwargs)\n",
    "        return res\n",
    "    return aninhada\n",
    "\n",
    "@decoradora\n",
    "def soma(x,y):\n",
    "    return x + y\n",
    "\n",
    "dez_mais_cinco = soma(10,5)\n",
    "print(dez_mais_cinco)"
   ]
  },
  {
   "cell_type": "code",
   "execution_count": null,
   "metadata": {},
   "outputs": [],
   "source": [
    "def decoradora(func):\n",
    "    palavra1 = input('Digite: ')\n",
    "    print(palavra1)\n",
    "    \n",
    "    def inner(*args, **kwargs):\n",
    "        nonlocal palavra1\n",
    "        palavra2 = input()\n",
    "        print({palavra1: palavra2})\n",
    "        frase = func(*args, **kwargs)\n",
    "        return frase\n",
    "    return inner\n",
    "\n",
    "@decoradora\n",
    "def numero(x, y):\n",
    "    return x + y\n",
    "\n",
    "frase1 = numero(5,10)\n",
    "print(frase1) # irá retornar o valor informado dentro da função numero e o que está dentro da função decoradora"
   ]
  },
  {
   "cell_type": "markdown",
   "metadata": {},
   "source": [
    "## venv"
   ]
  },
  {
   "cell_type": "markdown",
   "metadata": {},
   "source": [
    "Ambientes virtuais em python (venv)\n",
    "Um ambiente virtual carrega toda a sua instalação do python para uma pasta no caminho escolhido.\n",
    "Ao ativar um ambiente virtual, a instalação do ambiente virtual será usada.\n",
    "Você pode dar o nome que preferir para um ambiente virtual, mas os mais comuns são:\n",
    "venv env .venv .env\n",
    "\n",
    "Comando para criar um ambiente virtual: python -m venv venv\n",
    "Arquivo para ativar o ambiente virtual: clicar no arquivo activate na pasta .venv/bin\n",
    "Comando para ativar o ambiente virtual: . .venv/bin/activate obs:ponto espaço local arquivo"
   ]
  },
  {
   "attachments": {},
   "cell_type": "markdown",
   "metadata": {},
   "source": [
    "## POO\n",
    "Programação Orientado a Objeto"
   ]
  },
  {
   "cell_type": "markdown",
   "metadata": {},
   "source": [
    "class - Classes são moldes para criar novos objetos. <br>\n",
    "As classes geram novos objetos (instâncias) que podem ter seus próprios atributos e métodos. <br>\n",
    "Os objetos gerados pela classe podem usar seus dados internos para realizar várias ações. <br>\n",
    "Por convenção, usamos PascalCase para nomes de classes."
   ]
  },
  {
   "cell_type": "code",
   "execution_count": null,
   "metadata": {},
   "outputs": [],
   "source": [
    "from Projetos.gerador_dados import func_gerar_dados\n",
    "\n",
    "dados = func_gerar_dados()\n",
    "dados"
   ]
  },
  {
   "cell_type": "code",
   "execution_count": null,
   "metadata": {},
   "outputs": [],
   "source": [
    "class Pessoa:\n",
    "    ano_atual = 2023\n",
    "    \n",
    "    def __init__(self,nome,idade):\n",
    "        self.nome = nome\n",
    "        self.idade = idade\n",
    "        \n",
    "    def get_ano_nascimento(self):\n",
    "        return Pessoa.ano_atual - self.idade\n",
    "    \n",
    "dados = {'nome': 'rafael','idade': 35}\n",
    "p1 = Pessoa(**dados) # utiliza dados empacotados\n",
    "p2 = Pessoa('rafael',35)\n",
    "p2_dict = p2.__dict__ # Transforma em um dicionário\n",
    "\n",
    "print('p1 = ', p1.nome,'-', p1.idade)\n",
    "print('p2 =', p2.nome,'-',p2.idade)\n",
    "print('p1 dict =',vars(p1))\n",
    "print('p2 dict método 1 =', vars(p2))\n",
    "print('p2 dict método 2 =', p2_dict)\n",
    "\n",
    "print(p1.get_ano_nascimento())\n",
    "print(p2.get_ano_nascimento())"
   ]
  },
  {
   "cell_type": "code",
   "execution_count": null,
   "metadata": {},
   "outputs": [],
   "source": [
    "class Pessoa:\n",
    "    ano_atual = 2023\n",
    "    \n",
    "    def __init__(self,nome,idade):\n",
    "        self.nome = nome\n",
    "        self.idade = idade\n",
    "        \n",
    "    @classmethod # A própria Classe pode executar a função. Pode ser utilizado quando necessário apresentar um valor fixo\n",
    "    def nome_valor(cls,nome): \n",
    "        return cls(nome,29)\n",
    "\n",
    "p1 = Pessoa('Rafael',29)\n",
    "p2 = Pessoa.nome_valor('Rafael')\n",
    "\n",
    "print(vars(p1))\n",
    "print(vars(p2))"
   ]
  },
  {
   "cell_type": "code",
   "execution_count": null,
   "metadata": {},
   "outputs": [],
   "source": [
    "class Pessoa:\n",
    "    def __init__(self):\n",
    "        self.nome = None\n",
    "        self.idade = None\n",
    "    \n",
    "    def set_nome(self,nome):\n",
    "        self.nome = nome\n",
    "        \n",
    "    def set_idade(self,idade):\n",
    "        self.idade = idade\n",
    "\n",
    "    @classmethod\n",
    "    def entrada(cls,nome,idade):\n",
    "        pessoa = cls()\n",
    "        pessoa.nome = nome\n",
    "        pessoa.idade = idade\n",
    "        return pessoa\n",
    "    \n",
    "    @staticmethod\n",
    "    def texto():\n",
    "        return 'Texto'\n",
    "    \n",
    "p1 = Pessoa.entrada('Rafael',25)\n",
    "print(p1.nome)\n",
    "print(p1.idade)\n",
    "print(Pessoa.texto())\n",
    "print(p1.texto())"
   ]
  },
  {
   "cell_type": "code",
   "execution_count": null,
   "metadata": {},
   "outputs": [],
   "source": [
    "class Pessoa:\n",
    "    def __init__(self):\n",
    "        self._nome = None # Quando o atributo iniciar com _ será um atributo privado e não deverá ser usado fora da Classe\n",
    "        self._idade = None\n",
    "    \n",
    "    @property # Cria um atributo\n",
    "    def get_nome(self):\n",
    "        self._nome = input('Nome: ')\n",
    "        return self._nome\n",
    "    \n",
    "    @property # Cria um atributo\n",
    "    def get_idade(self):\n",
    "        self._idade = input('Idade: ')\n",
    "        return self._idade\n",
    "\n",
    "p1 = Pessoa()\n",
    "\n",
    "p1.get_nome, p1.get_idade # Executa sem os parênteses"
   ]
  },
  {
   "cell_type": "markdown",
   "metadata": {},
   "source": [
    "###\n",
    "Private, Public, Protected"
   ]
  },
  {
   "cell_type": "code",
   "execution_count": null,
   "metadata": {},
   "outputs": [],
   "source": [
    "class Privado():\n",
    "    def __init__(self):\n",
    "        self._private = 'isso é privado por convenção' # 1 underline priva a variável, porém apenas por convenção\n",
    "        self.public = 'Isso é público' \n",
    "        self.__protected = 'Protegido' # 2 underline protege a variável\n",
    "        self.teste = self.__metodo_protected() # 2 underline protege a função\n",
    "    \n",
    "    def __metodo_protected(self):\n",
    "        return ('__metodo_protected')\n",
    "\n",
    "p = Privado()\n",
    "\n",
    "try:\n",
    "    print(p.public)\n",
    "    print(p._private)\n",
    "    print(p.__protected)\n",
    "    print(p.__metodo_protected())\n",
    "except AttributeError:\n",
    "    print('__protected está protegido e gera um erro AtributeError') # 2 underline\n",
    "    print('__metodo_protected é uma função protegida e gera um erro AtributeError')\n",
    "    \n"
   ]
  },
  {
   "cell_type": "code",
   "execution_count": null,
   "metadata": {},
   "outputs": [],
   "source": [
    "print(p._Privado__protected) # Forma de utilizar uma variavel protegida\n",
    "print(p._Privado__metodo_protected()) # Forma de utilizar uma função protegida"
   ]
  },
  {
   "cell_type": "markdown",
   "metadata": {},
   "source": [
    "###\n",
    "Associação, agregação, composição"
   ]
  },
  {
   "cell_type": "code",
   "execution_count": null,
   "metadata": {},
   "outputs": [],
   "source": [
    "class Cliente:\n",
    "    def __init__(self):\n",
    "        self.nome = []\n",
    "        self.enderecos = []\n",
    "        \n",
    "    def inserir_endereco(self):\n",
    "        self.enderecos.append(Endereco())\n",
    "    \n",
    "    def inserir_cliente(self):\n",
    "        self.nome.append(Nome())\n",
    "    \n",
    "    def listar_enderecos(self):\n",
    "        for endereco in self.enderecos:\n",
    "            print(endereco.rua, endereco.numero)\n",
    "            \n",
    "    def listar_nomes(self):\n",
    "        for nome in self.nome:\n",
    "            print(nome.nome)\n",
    "            \n",
    "class Endereco:\n",
    "    def __init__(self):\n",
    "        self.rua = input('Rua: ')\n",
    "        self.numero = input('Numero: ')\n",
    "        \n",
    "class Nome:\n",
    "    def __init__(self):\n",
    "        self.nome = input('Nome: ')\n",
    "\n",
    "c1 = Cliente()\n",
    "c1.inserir_cliente()\n",
    "c1.inserir_endereco()\n",
    "\n",
    "c1.listar_nomes()\n",
    "c1.listar_enderecos()"
   ]
  },
  {
   "cell_type": "code",
   "execution_count": null,
   "metadata": {},
   "outputs": [],
   "source": [
    "class Carro:\n",
    "    def __init__(self,nome):\n",
    "        self.nome = nome\n",
    "        self.motor = None\n",
    "        self.fabricante = None\n",
    "        \n",
    "    @property\n",
    "    def motor(self):\n",
    "        return self._motor\n",
    "    \n",
    "    @motor.setter\n",
    "    def motor(self,valor):\n",
    "        self._motor = valor\n",
    "        \n",
    "    @property\n",
    "    def fabricante(self):\n",
    "        return self._fabricante\n",
    "    \n",
    "    @fabricante.setter\n",
    "    def fabricante(self,valor):\n",
    "        self._fabricante = valor\n",
    "        \n",
    "class Motor:\n",
    "    def __init__(self,nome):\n",
    "        self.nome = nome\n",
    "        \n",
    "class Fabricante:\n",
    "    def __init__(self,nome):\n",
    "        self.nome = nome\n",
    "\n",
    "# Carros\n",
    "corsa = Carro('Corsa')\n",
    "celta = Carro('Celta')\n",
    "\n",
    "# Motores\n",
    "motor_ti_1_0 = Motor('1.0TI')\n",
    "\n",
    "# Fabricantes\n",
    "chevrolet = Fabricante('Chevrolet')\n",
    "\n",
    "# Carro 1\n",
    "corsa.fabricante = chevrolet\n",
    "corsa.motor = motor_ti_1_0\n",
    "\n",
    "# Carro 2\n",
    "celta.fabricante = chevrolet\n",
    "celta.motor = motor_ti_1_0\n",
    "\n",
    "print(corsa.fabricante.nome,corsa.nome,corsa.motor.nome)\n",
    "print(celta.fabricante.nome,celta.nome,celta.motor.nome)"
   ]
  },
  {
   "cell_type": "markdown",
   "metadata": {},
   "source": [
    "###\n",
    "Herança vs Composição"
   ]
  },
  {
   "cell_type": "code",
   "execution_count": null,
   "metadata": {},
   "outputs": [],
   "source": [
    "class A:   \n",
    "    def metodo(self):\n",
    "        return 'B'\n",
    "    \n",
    "class B(A):\n",
    "    def metodo(self):\n",
    "        return super().metodo()\n",
    "    \n",
    "class C(B):\n",
    "    @property\n",
    "    def metodo(self):\n",
    "        return super().metodo()\n",
    "    \n",
    "C().metodo"
   ]
  },
  {
   "cell_type": "code",
   "execution_count": null,
   "metadata": {},
   "outputs": [],
   "source": [
    "import os\n",
    "\n",
    "class D:\n",
    "    def __init__(self) -> None:\n",
    "        self.nome_ = None\n",
    "        self.idade_ = None\n",
    "    \n",
    "    def nome(self):\n",
    "        self.nome_ = input('nome: ')\n",
    "        return self.nome_\n",
    "\n",
    "    def idade(self):\n",
    "        self.idade_ = input('idade: ')\n",
    "        return self.idade_\n",
    "    \n",
    "class E(D):\n",
    "    def __init__(self) -> None:\n",
    "        super().__init__()\n",
    "    \n",
    "    @property\n",
    "    def entrada_dados(self):\n",
    "        self.nome()\n",
    "        self.idade()\n",
    "    \n",
    "    def listar(self,list):\n",
    "        if self.nome_ == '' or self.idade_ == '':\n",
    "            return\n",
    "        elif self.nome_ == None or self.idade_ == None:\n",
    "            return\n",
    "        else:\n",
    "            list.append([self.nome_,self.idade_])\n",
    "            \n",
    "    def visualizar(self, list):\n",
    "        for x,y in list:\n",
    "            print('Nome:',x)\n",
    "            print('Idade:',y)\n",
    "            print('='*20)\n",
    "\n",
    "lista = []\n",
    "e = E()\n",
    "\n",
    "while True:\n",
    "    x  = input('1 - Inserir | 2 - Visualizar | 3 - Encerrar: ')\n",
    "    if x == '1':\n",
    "        e.entrada_dados\n",
    "        e.listar(lista)\n",
    "    elif x == '2':\n",
    "        os.system('clear')\n",
    "        e.visualizar(lista)\n",
    "    elif x == '3':\n",
    "        break"
   ]
  },
  {
   "cell_type": "markdown",
   "metadata": {},
   "source": [
    "###\n",
    "Herança múltipla"
   ]
  },
  {
   "cell_type": "code",
   "execution_count": null,
   "metadata": {},
   "outputs": [],
   "source": [
    "class F:\n",
    "    def __init__(self):\n",
    "        self.nome = None\n",
    "        \n",
    "    @property\n",
    "    def inserir_nome(self):\n",
    "        self.nome = input('nome: ')\n",
    "        return self.nome\n",
    "        \n",
    "class G:\n",
    "    def __init__(self):\n",
    "        self.idade = None\n",
    "        \n",
    "    @property\n",
    "    def inserir_idade(self):\n",
    "        self.idade = input('idade: ')\n",
    "        return self.idade\n",
    "        \n",
    "class H(F,G):\n",
    "    def listar(self,list):\n",
    "        list.append([self.inserir_nome,self.inserir_idade])\n",
    "        \n",
    "dados = []\n",
    "h = H()\n",
    "h.listar(dados)\n",
    "dados"
   ]
  },
  {
   "cell_type": "code",
   "execution_count": null,
   "metadata": {},
   "outputs": [],
   "source": [
    "H.mro() # Apresenta as heranças da classe"
   ]
  },
  {
   "cell_type": "markdown",
   "metadata": {},
   "source": [
    "###\n",
    "Mixins, Abstract"
   ]
  },
  {
   "cell_type": "code",
   "execution_count": null,
   "metadata": {},
   "outputs": [],
   "source": [
    "from abc import ABC, abstractmethod\n",
    "\n",
    "class Notificacao(ABC):\n",
    "    def __init__(self, mensagem) -> None:\n",
    "        self.mensagem = mensagem\n",
    "        \n",
    "    @abstractmethod\n",
    "    def enviar(self) -> bool:...\n",
    "    \n",
    "class NotificacaoEmail(Notificacao):\n",
    "    def enviar(self) -> bool:\n",
    "        print('Email: enviando - ', self.mensagem)\n",
    "        \n",
    "class NotificacaoSMS(Notificacao):\n",
    "    def enviar(self) -> bool:\n",
    "        print('SMS: enviando - ', self.mensagem)\n",
    "        \n",
    "n = NotificacaoEmail('teste')\n",
    "s = NotificacaoSMS('teste')\n",
    "n.enviar()\n",
    "s.enviar()"
   ]
  },
  {
   "cell_type": "markdown",
   "metadata": {},
   "source": [
    "###\n",
    "Exceptions"
   ]
  },
  {
   "cell_type": "code",
   "execution_count": null,
   "metadata": {},
   "outputs": [],
   "source": [
    "class MeuError(Exception):\n",
    "    ...\n",
    "    \n",
    "def levantar():\n",
    "    exception_ = MeuError('Erro de algo!')\n",
    "    exception_.add_note('Olha link')\n",
    "    exception_.add_note('Necessário realizar algo!')\n",
    "    raise exception_\n",
    "levantar()"
   ]
  },
  {
   "cell_type": "markdown",
   "metadata": {},
   "source": [
    "###\n",
    "Dunder\n",
    "https://rszalski.github.io/magicmethods/"
   ]
  },
  {
   "cell_type": "code",
   "execution_count": null,
   "metadata": {},
   "outputs": [],
   "source": [
    "class Ponto:\n",
    "    def __init__(self,x,y) -> None:\n",
    "        self.x = x\n",
    "        self.y = y\n",
    "        \n",
    "    def __repr__(self) -> str:\n",
    "        class_name = self.__class__.__name__\n",
    "        return f'{class_name}(x={self.x},y={self.y})'\n",
    "        \n",
    "p1 = Ponto(1,2)\n",
    "p2 = Ponto(98,200)\n",
    "print(p1)\n",
    "print(p2)"
   ]
  },
  {
   "cell_type": "code",
   "execution_count": null,
   "metadata": {},
   "outputs": [],
   "source": [
    "class Ponto2:\n",
    "    def __init__(self,x,y) -> None:\n",
    "        self.x = x\n",
    "        self.y = y\n",
    "\n",
    "    def __str__(self): # Dunder print str\n",
    "        class_name = self.__class__.__name__\n",
    "        return f'{class_name} (x={self.x}, y={self.y})'\n",
    "    \n",
    "    def __add__(self,other): # Dunder soma\n",
    "        novo_x = self.x + other.x\n",
    "        novo_y = self.y + other.y\n",
    "        return f'{self.__class__.__name__} (x={novo_x} y={novo_y})'\n",
    "        \n",
    "p1 = Ponto2(1,2)\n",
    "p2 = Ponto2(98,200)\n",
    "p3 = p1.__add__(p2)\n",
    "print(p1)\n",
    "print(p2)\n",
    "print(p3)"
   ]
  },
  {
   "cell_type": "code",
   "execution_count": null,
   "metadata": {},
   "outputs": [],
   "source": [
    "print(f'{\"teste\"!r} | {\"teste\"}') # !r acrescenta aspas ao valor"
   ]
  },
  {
   "cell_type": "code",
   "execution_count": null,
   "metadata": {},
   "outputs": [],
   "source": [
    "class Ponto3:\n",
    "    def __init__(self,x,y) -> None:\n",
    "        self.x = x\n",
    "        self.y = y\n",
    "\n",
    "    def __str__(self): # Dunder print str\n",
    "        class_name = self.__class__.__name__\n",
    "        return f'{class_name} (x={self.x}, y={self.y})'\n",
    "    \n",
    "    def __gt__(self, other):\n",
    "        resultado_self = self.x + self.y\n",
    "        resultado_other = other.x + other.y\n",
    "        return resultado_self > resultado_other\n",
    "    \n",
    "p1 = Ponto3(4,2)\n",
    "p2 = Ponto3(98,200)\n",
    "\n",
    "print(p1 > p2)\n",
    "print(p2 > p1)"
   ]
  },
  {
   "cell_type": "markdown",
   "metadata": {},
   "source": [
    "###\n",
    "__new__ e __init__"
   ]
  },
  {
   "cell_type": "code",
   "execution_count": null,
   "metadata": {},
   "outputs": [],
   "source": [
    "class Teste:\n",
    "    def __new__(cls,*args,**kwargs): # Irá rodar antes do def __init__ e irá continuar somente se o retorno não for None\n",
    "        instancia = super().__new__(cls)\n",
    "        print('Inicia com __new__')\n",
    "        return instancia\n",
    "        \n",
    "    def __init__(self) -> None:\n",
    "        self.teste = 'Depois do __new__'\n",
    "        \n",
    "    def __repr__(self) -> str:\n",
    "        return self.teste\n",
    "\n",
    "a = Teste()\n",
    "a"
   ]
  },
  {
   "cell_type": "markdown",
   "metadata": {},
   "source": [
    "###\n",
    "Context Manager"
   ]
  },
  {
   "cell_type": "code",
   "execution_count": null,
   "metadata": {},
   "outputs": [],
   "source": [
    "class MyOpen:\n",
    "    def __init__(self, caminho_arquivo, modo):\n",
    "        self.caminho_arquivo = caminho_arquivo\n",
    "        self.modo = modo\n",
    "        self._arquivo = None\n",
    "    def __enter__(self):\n",
    "        print('ABRINDO ARQUIVO')\n",
    "        self._arquivo = open(self.caminho_arquivo, self.modo, encoding='utf8')\n",
    "        return self._arquivo\n",
    "    def __exit__(self):\n",
    "        print('FECHANDO ARQUIVO')\n",
    "        self._arquivo.close()\n",
    "\n",
    "with MyOpen('aula149.txt', 'w') as arquivo:\n",
    "    arquivo.write('Linha 1\\n')\n",
    "    arquivo.write('Linha 2\\n')\n",
    "    arquivo.write('Linha 2\\n', 123)\n",
    "    arquivo.write('Linha 3\\n')\n",
    "    print('WITH', arquivo)"
   ]
  },
  {
   "cell_type": "code",
   "execution_count": null,
   "metadata": {},
   "outputs": [],
   "source": [
    "from contextlib import contextmanager\n",
    "\n",
    "@contextmanager\n",
    "def my_open(caminho_arquivo, modo):\n",
    "    arquivo = open(caminho_arquivo, modo, encoding='utf8')\n",
    "    yield arquivo\n",
    "    arquivo.close()\n",
    "\n",
    "while True:\n",
    "    try:\n",
    "        x = input('')\n",
    "        with my_open('ContextManager.txt', 'a+') as arquivo:\n",
    "            arquivo.write(f'{x}\\n')\n",
    "    except KeyboardInterrupt:\n",
    "        break"
   ]
  },
  {
   "cell_type": "markdown",
   "metadata": {},
   "source": [
    "###\n",
    "Funções decoradoras e decoradores com classes"
   ]
  },
  {
   "cell_type": "code",
   "execution_count": null,
   "metadata": {},
   "outputs": [],
   "source": [
    "import os\n",
    "from typing import Any\n",
    "\n",
    "class Cliente():\n",
    "    def __init__(self):\n",
    "        self.nome = self.inserir_nome\n",
    "        self.idade = self.inserir_idade\n",
    "    \n",
    "    @property\n",
    "    def inserir_nome(self) -> str:\n",
    "        self.nome = input('Nome: ')\n",
    "        return self.nome\n",
    "    \n",
    "    @property\n",
    "    def inserir_idade(self) -> str:\n",
    "        self.idade = input('Idade: ')\n",
    "        return self.idade\n",
    "\n",
    "class PF(Cliente):\n",
    "    def __init__(self):\n",
    "        super().__init__()\n",
    "        self.cpf = self.inserir_cpf\n",
    "        \n",
    "    @property\n",
    "    def inserir_cpf(self):\n",
    "        self.cpf = input('cpf: ')\n",
    "        return self.cpf\n",
    "    \n",
    "class PJ(Cliente):\n",
    "    def __init__(self):\n",
    "        super().__init__()\n",
    "        self.cnpj = self.inserir_cnpj\n",
    "        \n",
    "    @property\n",
    "    def inserir_cnpj(self):\n",
    "        self.cnpj = input('cnpj: ')\n",
    "        return self.cnpj\n",
    "\n",
    "def separador(metodo):\n",
    "    print('='*20)\n",
    "    print(metodo.__class__.__name__)\n",
    "    for q,w in vars(metodo).items():\n",
    "        print(q.upper(),':',w.upper())\n",
    "\n",
    "while True:\n",
    "    x = input('1 - PF | 2 - PJ | 3 - Encerrar')\n",
    "    if x == '1':\n",
    "        pf = PF()\n",
    "        separador(pf)\n",
    "    elif x=='2':\n",
    "        pj = PJ()\n",
    "        separador(pj)\n",
    "    else:\n",
    "        break"
   ]
  },
  {
   "cell_type": "code",
   "execution_count": null,
   "metadata": {},
   "outputs": [],
   "source": [
    "def meu_repr(self):\n",
    "    class_name = self.__class__.__name__\n",
    "    class_dict = self.__dict__\n",
    "    class_repr = f'{class_name}({class_dict})'\n",
    "    return class_repr\n",
    "\n",
    "def adiciona_repr(cls):\n",
    "    cls.__repr__ = meu_repr\n",
    "    return cls\n",
    "\n",
    "\n",
    "def meu_planeta(metodo):\n",
    "    def interno(self, *args, **kwargs):\n",
    "        resultado = metodo(self, *args, **kwargs)\n",
    "\n",
    "        if 'Terra' in resultado:\n",
    "            return 'Você está em casa'\n",
    "        return resultado\n",
    "    return interno\n",
    "\n",
    "\n",
    "@adiciona_repr\n",
    "class Time:\n",
    "    def __init__(self, nome):\n",
    "        self.nome = nome\n",
    "\n",
    "\n",
    "@adiciona_repr\n",
    "class Planeta:\n",
    "    def __init__(self, nome):\n",
    "        self.nome = nome\n",
    "\n",
    "    @meu_planeta\n",
    "    def falar_nome(self):\n",
    "        return f'O planeta é {self.nome}'\n",
    "\n",
    "\n",
    "brasil = Time('Brasil')\n",
    "portugal = Time('Portugal')\n",
    "\n",
    "terra = Planeta('Terra')\n",
    "marte = Planeta('Marte')\n",
    "\n",
    "print(brasil)\n",
    "print(portugal)\n",
    "\n",
    "print(terra)\n",
    "print(marte)\n",
    "\n",
    "print(terra.falar_nome())\n",
    "print(marte.falar_nome())"
   ]
  },
  {
   "cell_type": "markdown",
   "metadata": {},
   "source": [
    "###\n",
    "call"
   ]
  },
  {
   "cell_type": "code",
   "execution_count": null,
   "metadata": {},
   "outputs": [],
   "source": [
    "from typing import Any\n",
    "\n",
    "\n",
    "class CallMe:\n",
    "    def __init__(self,phone):\n",
    "        self.phone = phone\n",
    "        \n",
    "    def __call__(self, *args: Any, **kwds: Any) -> Any:\n",
    "        print('Chamando', self.phone)\n",
    "    \n",
    "call1 = CallMe('111111...')\n",
    "call1()"
   ]
  },
  {
   "cell_type": "markdown",
   "metadata": {},
   "source": [
    "###\n",
    "getitem"
   ]
  },
  {
   "cell_type": "code",
   "execution_count": null,
   "metadata": {},
   "outputs": [],
   "source": [
    "class Book:\n",
    "    def __init__(self,content):\n",
    "        self.content = content\n",
    "        \n",
    "    def __getitem__(self, index):\n",
    "        try:\n",
    "            page = self.content[index]\n",
    "        except IndexError:\n",
    "            page = \"Página não encontrada...\"\n",
    "        return page\n",
    "    \n",
    "book = Book(['Humanas','Exatas','Saúde'])\n",
    "\n",
    "print(book[1])\n",
    "print(book[4])"
   ]
  },
  {
   "cell_type": "markdown",
   "metadata": {},
   "source": [
    "###\n",
    "classe decoradora"
   ]
  },
  {
   "cell_type": "code",
   "execution_count": null,
   "metadata": {},
   "outputs": [],
   "source": [
    "class Multiplicar:\n",
    "    def __init__(self, multiplicador):\n",
    "        self._multiplicador = multiplicador\n",
    "\n",
    "    def __call__(self, func):\n",
    "        def interna(*args, **kwargs):\n",
    "            resultado = func(*args, **kwargs)\n",
    "            return resultado * self._multiplicador\n",
    "        return interna\n",
    "\n",
    "\n",
    "@Multiplicar(2)\n",
    "def soma(x, y):\n",
    "    return x + y\n",
    "\n",
    "\n",
    "dois_mais_quatro = soma(2, 4)\n",
    "print(dois_mais_quatro)"
   ]
  },
  {
   "cell_type": "markdown",
   "metadata": {},
   "source": [
    "###\n",
    "Metaclasses"
   ]
  },
  {
   "cell_type": "code",
   "execution_count": null,
   "metadata": {},
   "outputs": [],
   "source": []
  },
  {
   "cell_type": "markdown",
   "metadata": {},
   "source": [
    "## DocStrings"
   ]
  },
  {
   "cell_type": "code",
   "execution_count": null,
   "metadata": {},
   "outputs": [],
   "source": [
    "import Projetos.calculadora as calc\n",
    "\n",
    "help(calc)"
   ]
  },
  {
   "cell_type": "code",
   "execution_count": null,
   "metadata": {},
   "outputs": [],
   "source": [
    "import Projetos.calculadora as calc\n",
    "\n",
    "print(calc.__file__)"
   ]
  },
  {
   "cell_type": "code",
   "execution_count": null,
   "metadata": {},
   "outputs": [],
   "source": [
    "import Projetos.calculadora as calc\n",
    "\n",
    "print(calc.__doc__)"
   ]
  },
  {
   "cell_type": "code",
   "execution_count": null,
   "metadata": {},
   "outputs": [],
   "source": [
    "import Projetos.calculadora as calc\n",
    "\n",
    "print(calc.__name__)"
   ]
  },
  {
   "cell_type": "markdown",
   "metadata": {},
   "source": [
    "###\n",
    "DocStrings funções"
   ]
  },
  {
   "cell_type": "code",
   "execution_count": null,
   "metadata": {},
   "outputs": [],
   "source": [
    "import Projetos.docstrings as docstrings\n",
    "\n",
    "help(docstrings)"
   ]
  },
  {
   "cell_type": "markdown",
   "metadata": {},
   "source": [
    "## Enum"
   ]
  },
  {
   "cell_type": "code",
   "execution_count": null,
   "metadata": {},
   "outputs": [],
   "source": [
    "import enum\n",
    "\n",
    "class Direcoes(enum.Enum):\n",
    "    ESQUERDA = 1 \n",
    "    DIREITA = enum.auto()\n",
    "\n",
    "def mover(direcao: Direcoes): \n",
    "    if not isinstance(direcao,Direcoes):\n",
    "        raise ValueError('Direção não encontrada!')\n",
    "    print(f'Movendo para {direcao.name}, {direcao.value}')\n",
    "\n",
    "mover(Direcoes.ESQUERDA)\n",
    "mover(Direcoes.DIREITA)"
   ]
  },
  {
   "attachments": {},
   "cell_type": "markdown",
   "metadata": {
    "id": "5DOBP_xBr33M"
   },
   "source": [
    "## Pandas\n",
    "Estrutura de dados - Pandas é uma ferramenta de manipulação de dados de alto nível, construída com base no pacote Numpy. \n",
    "\n",
    "O pacote pandas possui estruturas de dados bastante interessantes para manipulação de dados e por isso é muito utilizado por cientistas de dados. https://pandas.pydata.org/pandas-docs/stable/\n",
    "\n",
    "Necessário instalar no terminal - pip install pandas"
   ]
  },
  {
   "cell_type": "code",
   "execution_count": null,
   "metadata": {},
   "outputs": [],
   "source": [
    "import pandas as pd # Comando para importar a biblioteca. Obrigatório para rodar os comandos da biblioteca"
   ]
  },
  {
   "cell_type": "code",
   "execution_count": null,
   "metadata": {},
   "outputs": [],
   "source": [
    "import pandas as pd\n",
    "pd.set_option('display.max_rows', 1000) # Comando para determinar a quantidade de linhas ou colunas da tabela que serão mostradas. \n",
    "pd.set_option('display.max_columns', 1000)"
   ]
  },
  {
   "cell_type": "code",
   "execution_count": null,
   "metadata": {},
   "outputs": [],
   "source": [
    "import pandas as pd\n",
    "from tabulate import tabulate\n",
    "\n",
    "teste = pd.read_csv('Arquivos de apoio/db.csv', sep=';')\n",
    "print(tabulate(teste.head()))"
   ]
  },
  {
   "cell_type": "code",
   "execution_count": null,
   "metadata": {},
   "outputs": [],
   "source": [
    "dataset = pd.read_csv('Arquivos de apoio/db.csv', sep = ';') # Importará o arquivo como uma tabela. Necessário indicar separador.\n",
    "dataset"
   ]
  },
  {
   "cell_type": "code",
   "execution_count": null,
   "metadata": {},
   "outputs": [],
   "source": [
    "dataset.isnull().sum()"
   ]
  },
  {
   "cell_type": "code",
   "execution_count": null,
   "metadata": {},
   "outputs": [],
   "source": [
    "dataset['Quilometragem'].fillna(dataset['Quilometragem'].mean(), inplace=True) # Substitui os valores NaN pela média e grava permanente\n",
    "dataset"
   ]
  },
  {
   "cell_type": "code",
   "execution_count": null,
   "metadata": {},
   "outputs": [],
   "source": [
    "dataset.describe()"
   ]
  },
  {
   "cell_type": "code",
   "execution_count": null,
   "metadata": {},
   "outputs": [],
   "source": [
    "dataset.dtypes # Mostra o tipo de dado"
   ]
  },
  {
   "cell_type": "code",
   "execution_count": null,
   "metadata": {},
   "outputs": [],
   "source": [
    "dataset['Ano'] = dataset['Ano'].astype('object') # Altera o tipo de dado para 'object'"
   ]
  },
  {
   "cell_type": "code",
   "execution_count": null,
   "metadata": {},
   "outputs": [],
   "source": [
    "dataset['Ano'].describe()"
   ]
  },
  {
   "cell_type": "code",
   "execution_count": null,
   "metadata": {},
   "outputs": [],
   "source": [
    "dataset.groupby('Zero_km')['Valor'].sum()"
   ]
  },
  {
   "cell_type": "code",
   "execution_count": null,
   "metadata": {},
   "outputs": [],
   "source": [
    "dataset.groupby('Zero_km')['Quilometragem'].mean()"
   ]
  },
  {
   "cell_type": "code",
   "execution_count": null,
   "metadata": {},
   "outputs": [],
   "source": [
    "dataset[['Quilometragem', 'Valor']].describe() # Comando para mostrar alguns dados estatísticos."
   ]
  },
  {
   "attachments": {},
   "cell_type": "markdown",
   "metadata": {
    "id": "RqxjUVIsr7Qp"
   },
   "source": [
    "### Series\n",
    "São arrays unidimensionais rotulados capazes de armazenar qualquer tipo de dado. Os rótulos das linhas são chamados de index."
   ]
  },
  {
   "cell_type": "code",
   "execution_count": null,
   "metadata": {
    "id": "cKel5_Lt4wrT"
   },
   "outputs": [],
   "source": [
    "carros = ['Jetta Variant', 'Passat', 'CrossFox']\n",
    "pd.Series(carros)"
   ]
  },
  {
   "attachments": {},
   "cell_type": "markdown",
   "metadata": {
    "id": "u6zy_H35FWaN"
   },
   "source": [
    "### DataFrames\n",
    "É uma estrutura de dados tubular bidimensional com rótulos nas linhas e colunas. \n",
    "\n",
    "Como a Series, os DataFrames são capazes de armazenar qualquer tipo de dados."
   ]
  },
  {
   "cell_type": "code",
   "execution_count": null,
   "metadata": {
    "id": "zeSiEB1KHS19"
   },
   "outputs": [],
   "source": [
    "dados = [\n",
    "    {'Nome': 'Jetta Variant', 'Motor': 'Motor 4.0 Turbo', 'Ano': 2003, 'Quilometragem': 44410.0, 'Zero_km': False, 'Valor': 88078.64},\n",
    "    {'Nome': 'Passat', 'Motor': 'Motor Diesel', 'Ano': 1991, 'Quilometragem': 5712.0, 'Zero_km': False, 'Valor': 106161.94},\n",
    "    {'Nome': 'Crossfox', 'Motor': 'Motor Diesel V8', 'Ano': 1990, 'Quilometragem': 37123.0, 'Zero_km': False, 'Valor': 72832.16}\n",
    "]\n",
    "dados"
   ]
  },
  {
   "cell_type": "code",
   "execution_count": null,
   "metadata": {
    "id": "hEUYYN2tBQvl"
   },
   "outputs": [],
   "source": [
    "dataset = pd.DataFrame(dados) # Cria uma tabela. Atenção ao cabeçalho\n",
    "dataset"
   ]
  },
  {
   "cell_type": "code",
   "execution_count": null,
   "metadata": {
    "id": "W9Jbe_GqCkEm"
   },
   "outputs": [],
   "source": [
    "dataset[['Nome', 'Motor', 'Ano','Quilometragem', 'Zero_km', 'Valor']] # É possível indicar a ordem das variáveis."
   ]
  },
  {
   "attachments": {},
   "cell_type": "markdown",
   "metadata": {
    "id": "LjgV0ZH8ENOJ"
   },
   "source": [
    "#### pd.read()\n",
    "Criando um DataFrame a partir de um arquivo externo."
   ]
  },
  {
   "cell_type": "code",
   "execution_count": null,
   "metadata": {
    "id": "_LTuer_9ETd0"
   },
   "outputs": [],
   "source": [
    "import pandas as pd\n",
    "dataset = pd.read_csv('Arquivos de apoio/db.csv', sep = ';') # Com números de linhas.\n",
    "dataset"
   ]
  },
  {
   "cell_type": "code",
   "execution_count": null,
   "metadata": {
    "id": "WXWBNEgJFNCe"
   },
   "outputs": [],
   "source": [
    "dataset = pd.read_csv('Arquivos de apoio/db.csv', sep = ';', index_col = 0) # Sem números de linhas.\n",
    "dataset"
   ]
  },
  {
   "cell_type": "code",
   "execution_count": null,
   "metadata": {
    "id": "MORRVsTiTPI7"
   },
   "outputs": [],
   "source": [
    "dataset.head() # Mostra os 5 primeiros dataset."
   ]
  },
  {
   "cell_type": "code",
   "execution_count": null,
   "metadata": {
    "id": "4Mi6K5ymTiPQ"
   },
   "outputs": [],
   "source": [
    "dataset['Valor'] # Mostra apenas a coluna Valor e o índice."
   ]
  },
  {
   "cell_type": "code",
   "execution_count": null,
   "metadata": {
    "id": "I3K6BXSgUKYC"
   },
   "outputs": [],
   "source": [
    "dataset[0:1] # Mostra uma ou mais linhas específicas."
   ]
  },
  {
   "attachments": {},
   "cell_type": "markdown",
   "metadata": {
    "id": "FDZPBZwcsm9f"
   },
   "source": [
    "### .loc\n",
    "Seleção de informações"
   ]
  },
  {
   "cell_type": "code",
   "execution_count": null,
   "metadata": {
    "id": "u01BebAfsxXD"
   },
   "outputs": [],
   "source": [
    "dataset.loc[['Passat']] # Mostra todas as informações de determinada linha do array. Lembrar do duplo colchetes."
   ]
  },
  {
   "cell_type": "code",
   "execution_count": null,
   "metadata": {},
   "outputs": [],
   "source": [
    "dataset.loc[['Diesel']]"
   ]
  },
  {
   "cell_type": "code",
   "execution_count": null,
   "metadata": {
    "id": "YL0rYY5Ytyzy"
   },
   "outputs": [],
   "source": [
    "dataset.loc[['Passat', 'DS5']] # É possível mostrar mais de uma linha do array."
   ]
  },
  {
   "cell_type": "code",
   "execution_count": null,
   "metadata": {
    "id": "dgVugmSHwPDl"
   },
   "outputs": [],
   "source": [
    "dataset.loc[['Passat', 'DS5'],['Motor', 'Valor']] # Mostra determinada linha e coluna."
   ]
  },
  {
   "attachments": {},
   "cell_type": "markdown",
   "metadata": {
    "id": "x5EQkQqKwqfA"
   },
   "source": [
    "### .iloc\n",
    "Seleção de posição"
   ]
  },
  {
   "cell_type": "code",
   "execution_count": null,
   "metadata": {
    "id": "_ZzNlKlIwums"
   },
   "outputs": [],
   "source": [
    "dataset.iloc[[1]] # Retorna as informações da posição da linha."
   ]
  },
  {
   "cell_type": "code",
   "execution_count": null,
   "metadata": {
    "id": "LMlkuyL5xNNP"
   },
   "outputs": [],
   "source": [
    "dataset.iloc[0:2] # Quando há mais de uma linha não é necessário duplo colchetes."
   ]
  },
  {
   "cell_type": "code",
   "execution_count": null,
   "metadata": {
    "id": "6ENKbgeAxAk0"
   },
   "outputs": [],
   "source": [
    "dataset.iloc[[0],[1]] # Linha e coluna específica."
   ]
  },
  {
   "cell_type": "code",
   "execution_count": null,
   "metadata": {
    "id": "Pa1mMPVUxfyN"
   },
   "outputs": [],
   "source": [
    "dataset.iloc[:,0:1] # Linhas e colunas específicas."
   ]
  },
  {
   "cell_type": "code",
   "execution_count": null,
   "metadata": {
    "id": "laXJ5o-Mx665"
   },
   "outputs": [],
   "source": [
    "dataset.iloc[:,[5,2]] # Todas as linhas e colunas específicas."
   ]
  },
  {
   "attachments": {},
   "cell_type": "markdown",
   "metadata": {
    "id": "TLDA6It97ptA"
   },
   "source": [
    "### Queries\n",
    "Basicamente, são consultas que podem ser realizadas em dataframes."
   ]
  },
  {
   "cell_type": "code",
   "execution_count": null,
   "metadata": {
    "id": "hHCeIzsZ7xHm"
   },
   "outputs": [],
   "source": [
    "dataset.Motor # Mostra as informações do motor."
   ]
  },
  {
   "cell_type": "code",
   "execution_count": null,
   "metadata": {
    "id": "FsaPPZnA79nT"
   },
   "outputs": [],
   "source": [
    "dataset.Motor == 'Motor Diesel' # Indica quais possuem a informação indicada."
   ]
  },
  {
   "cell_type": "code",
   "execution_count": null,
   "metadata": {
    "id": "sOkLTDIi-aBZ"
   },
   "outputs": [],
   "source": [
    "Diesel = dataset.Motor == 'Motor Diesel' # Todos que possuirem Motor Diesel serão enviados para a variável Diesel.\n",
    "print(f'{len(dataset[Diesel])}') # Conta a quantidade de motores Diesel"
   ]
  },
  {
   "cell_type": "code",
   "execution_count": null,
   "metadata": {
    "id": "y3cXviprO4NG"
   },
   "outputs": [],
   "source": [
    "dataset[(dataset.Motor == 'Motor Diesel') & (dataset.Zero_km == True)] # Mostra quais veículos estão dentro da condição informada."
   ]
  },
  {
   "attachments": {},
   "cell_type": "markdown",
   "metadata": {
    "id": "ZcOadk9Ag1YI"
   },
   "source": [
    "### Operador lógico e filtros"
   ]
  },
  {
   "cell_type": "code",
   "execution_count": null,
   "metadata": {
    "id": "zAoOrisWSQOX"
   },
   "outputs": [],
   "source": [
    "import pandas as pd\n",
    "\n",
    "dados = {\n",
    "    'Motor': ['Motor 4.0 Turbo', 'Motor Diesel', 'Motor Diesel V8', 'Motor Diesel', 'Motor 1.6'],\n",
    "    'Ano': [2019, 2003, 1991, 2019, 1990],\n",
    "    'Quilometragem': [0.0, 5712.0, 37123.0, 0.0, 120000.0],\n",
    "    'Zero_km': [True, False, False, True, False],\n",
    "    'Valor': [88000.0, 106000.0, 72000.0, 89000.0, 32000.0]\n",
    "}\n",
    "\n",
    "dataset = pd.DataFrame(dados, index = ['Jetta', 'Passat', 'Crossfox', 'DS5', 'Fusca'])\n",
    "dataset"
   ]
  },
  {
   "cell_type": "code",
   "execution_count": null,
   "metadata": {
    "id": "pyBYfPcmSTNA"
   },
   "outputs": [],
   "source": [
    "dataset.query('Motor == \"Motor Diesel\" or Zero_km == True') #Filtro lógico"
   ]
  },
  {
   "cell_type": "code",
   "execution_count": null,
   "metadata": {
    "id": "gVB4cFQJSp4w"
   },
   "outputs": [],
   "source": [
    "dataset[(dataset.Motor == 'Motor Diesel') | (dataset.Zero_km == True)] # Atenção com o operador lógico 'ou' representado pela '|'."
   ]
  },
  {
   "cell_type": "code",
   "execution_count": null,
   "metadata": {
    "id": "bnuLZ0q6SrUL"
   },
   "outputs": [],
   "source": [
    "dataset.query('Motor == \"Motor Diesel\" | Zero_km == True') # Todas as opções apresentam o mesmo resultado."
   ]
  },
  {
   "attachments": {},
   "cell_type": "markdown",
   "metadata": {
    "id": "Mxt2Tej_hBEP"
   },
   "source": [
    "### Iterações em dataframes\n",
    "- .iterrows() : Itera o DataFrame em pares, index e Series.\n",
    "- .itertuples() : Itera as colunas do DataFrame como tuplas nomeadas.\n",
    "- .items() : Itera as colunas do DataFrame, retornando uma tupla com o nome da coluna e o conteúdo como uma Series."
   ]
  },
  {
   "cell_type": "code",
   "execution_count": null,
   "metadata": {
    "id": "FprPPP1EhFxt"
   },
   "outputs": [],
   "source": [
    "for index, row in dataset.iterrows(): # Comando para criar uma nova coluna com os valores médios do km.\n",
    "  if(2019 - row['Ano'] != 0): # row refere-se as colunas.\n",
    "    dataset.loc[index, 'Km_media'] = row['Quilometragem'] / (2019 - row['Ano']) \n",
    "  else:\n",
    "    dataset.loc[index, 'Km_media'] = 0\n",
    "dataset"
   ]
  },
  {
   "attachments": {},
   "cell_type": "markdown",
   "metadata": {
    "id": "SvwGNlqa5EH3"
   },
   "source": [
    "### Tratamento dos dados"
   ]
  },
  {
   "cell_type": "code",
   "execution_count": null,
   "metadata": {
    "id": "WBUNvh0v7E_a"
   },
   "outputs": [],
   "source": [
    "import pandas as pd\n",
    "dataset = pd.read_csv('Arquivos de apoio/db.csv', sep = ';', index_col = 0) # Sem números de linhas.\n",
    "dataset"
   ]
  },
  {
   "cell_type": "code",
   "execution_count": null,
   "metadata": {
    "id": "XI3ugDI5oGZy"
   },
   "outputs": [],
   "source": [
    "dataset.info()"
   ]
  },
  {
   "cell_type": "code",
   "execution_count": null,
   "metadata": {
    "id": "fSFfISiV5NVn"
   },
   "outputs": [],
   "source": [
    "dataset.Quilometragem.isna() # Cria uma Series Boleana que detecta valores nulos."
   ]
  },
  {
   "cell_type": "code",
   "execution_count": null,
   "metadata": {
    "id": "FU3cIsGh5jPq"
   },
   "outputs": [],
   "source": [
    "dataset[dataset.Quilometragem.isna()] # É possível visualizar que alguns valores estão como nulo e não como 0."
   ]
  },
  {
   "cell_type": "code",
   "execution_count": null,
   "metadata": {
    "id": "M_lnwSLa7W2z"
   },
   "outputs": [],
   "source": [
    "dataset.fillna(0, inplace = True) # Substitui os valores nulos por 0.\n",
    "dataset"
   ]
  },
  {
   "cell_type": "code",
   "execution_count": null,
   "metadata": {
    "id": "bQq--UaD75Pa"
   },
   "outputs": [],
   "source": [
    "dataset.dropna(subset =['Quilometragem'], inplace = True) # Exclui os dados que possuem valores nulos.\n",
    "dataset"
   ]
  },
  {
   "cell_type": "markdown",
   "metadata": {},
   "source": [
    "#### Gráficos"
   ]
  },
  {
   "cell_type": "code",
   "execution_count": null,
   "metadata": {},
   "outputs": [],
   "source": [
    "import pandas as pd\n",
    "import matplotlib.pyplot as plt\n",
    "plt.style.use('seaborn')"
   ]
  },
  {
   "cell_type": "code",
   "execution_count": null,
   "metadata": {},
   "outputs": [],
   "source": [
    "dataset = pd.read_csv('Arquivos de apoio/db.csv', sep = ';', index_col = 0) # Sem números de linhas.\n",
    "dataset.head()"
   ]
  },
  {
   "cell_type": "code",
   "execution_count": null,
   "metadata": {},
   "outputs": [],
   "source": [
    "dataset.value_counts('Motor').plot.barh(); # Ponto-vírgula retira o cabeçalho do gráfico"
   ]
  },
  {
   "cell_type": "code",
   "execution_count": null,
   "metadata": {},
   "outputs": [],
   "source": [
    "dataset.value_counts('Motor').plot.barh(color='gray')\n",
    "plt.xlabel('Quantidade') # Define o título dos eixos X e Y\n",
    "plt.ylabel('Motor');"
   ]
  },
  {
   "cell_type": "code",
   "execution_count": null,
   "metadata": {},
   "outputs": [],
   "source": [
    "dataset.head()\n",
    "dataset = dataset.sort_values(ascending=False, by='Nome')\n",
    "dataset.groupby(dataset['Motor'] == 'Motor Diesel')['Valor'].plot.barh(title='Carro x Valor');\n",
    "plt.xlabel('Valor')\n",
    "plt.ylabel('Carro')\n",
    "plt.savefig('Gráfico Carro x Valor.png') # Salva o gráfico como um arquivo png"
   ]
  },
  {
   "cell_type": "code",
   "execution_count": null,
   "metadata": {},
   "outputs": [],
   "source": [
    "plt.boxplot(dataset['Ano'])"
   ]
  }
 ],
 "metadata": {
  "colab": {
   "authorship_tag": "ABX9TyMKD2Gw0WjAJUuMJZqMr79Q",
   "mount_file_id": "1BCURlZ-kTWoLIMrQ7xQHog3EUD8USquz",
   "provenance": []
  },
  "kernelspec": {
   "display_name": "Python 3 (ipykernel)",
   "language": "python",
   "name": "python3"
  },
  "language_info": {
   "codemirror_mode": {
    "name": "ipython",
    "version": 3
   },
   "file_extension": ".py",
   "mimetype": "text/x-python",
   "name": "python",
   "nbconvert_exporter": "python",
   "pygments_lexer": "ipython3",
   "version": "3.11.7"
  }
 },
 "nbformat": 4,
 "nbformat_minor": 4
}
