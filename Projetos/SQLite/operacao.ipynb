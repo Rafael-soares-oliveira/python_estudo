{
 "cells": [
  {
   "cell_type": "code",
   "execution_count": 1,
   "metadata": {},
   "outputs": [],
   "source": [
    "from main import Control_database\n",
    "database = Control_database()"
   ]
  },
  {
   "cell_type": "markdown",
   "metadata": {},
   "source": [
    "### INSERT"
   ]
  },
  {
   "cell_type": "code",
   "execution_count": 3,
   "metadata": {},
   "outputs": [
    {
     "name": "stdout",
     "output_type": "stream",
     "text": [
      "INSERT INTO customers(name, weight)VALUES(?, ?)\n"
     ]
    }
   ],
   "source": [
    "database.insert((\n",
    "    ('Rafael Soares de Oliveira',  3),\n",
    "    ('Maria Soares da Silva', 3),\n",
    "    ('Rafael Soares de Oliveira',  3),\n",
    "    ('Maria Soares da Silva', 3),\n",
    "    ('Rafael Soares de Oliveira',  3),\n",
    "    ('Maria Soares da Silva', 3),\n",
    "    ('Rafael Soares de Oliveira',  3),\n",
    "    ('Maria Soares da Silva', 3)\n",
    "))"
   ]
  },
  {
   "cell_type": "markdown",
   "metadata": {},
   "source": [
    "### SELECT"
   ]
  },
  {
   "cell_type": "code",
   "execution_count": null,
   "metadata": {},
   "outputs": [],
   "source": [
    "database.select(f'SELECT * FROM {database.TABLE_NAME} WHERE name == \"Rafael Soares de Oliveira\"')"
   ]
  },
  {
   "cell_type": "code",
   "execution_count": 12,
   "metadata": {},
   "outputs": [
    {
     "name": "stdout",
     "output_type": "stream",
     "text": [
      "Database: db.sqlite3 - Table: customers\n",
      "Empty DataFrame\n",
      "Columns: []\n",
      "Index: []\n"
     ]
    }
   ],
   "source": [
    "database.select('all')"
   ]
  },
  {
   "cell_type": "code",
   "execution_count": null,
   "metadata": {},
   "outputs": [],
   "source": [
    "database.select(f'SELECT * FROM {database.TABLE_NAME} WHERE name LIKE \"Rafael%\"')"
   ]
  },
  {
   "cell_type": "code",
   "execution_count": null,
   "metadata": {},
   "outputs": [],
   "source": [
    "database.select(f'se * FROM {database.TABLE_NAME} WHERE name == \"Rafael Soares de Oliveira\"')"
   ]
  },
  {
   "cell_type": "markdown",
   "metadata": {},
   "source": [
    "### DELETE"
   ]
  },
  {
   "cell_type": "code",
   "execution_count": null,
   "metadata": {},
   "outputs": [],
   "source": [
    "database.delete(f'DELETE FROM {database.TABLE_NAME} WHERE name LIKE \"Rafael%\"')"
   ]
  },
  {
   "cell_type": "code",
   "execution_count": null,
   "metadata": {},
   "outputs": [],
   "source": [
    "database.delete(f'DELETE FROM {database.TABLE_NAME} WHERE name LIKE \"Maria%\"')"
   ]
  },
  {
   "cell_type": "code",
   "execution_count": 11,
   "metadata": {},
   "outputs": [
    {
     "name": "stdout",
     "output_type": "stream",
     "text": [
      "DELETADO!\n"
     ]
    }
   ],
   "source": [
    "database.delete(f'DELETE FROM {database.TABLE_NAME}')"
   ]
  },
  {
   "cell_type": "markdown",
   "metadata": {},
   "source": [
    "### UPDATE"
   ]
  },
  {
   "cell_type": "code",
   "execution_count": 9,
   "metadata": {},
   "outputs": [
    {
     "name": "stdout",
     "output_type": "stream",
     "text": [
      "UPDATE\n"
     ]
    }
   ],
   "source": [
    "database.update(f'UPDATE {database.TABLE_NAME} SET name=\"Rafael Soares da Silva\"\\\n",
    "                WHERE name = \"Mario Soares da Silva\"' )"
   ]
  }
 ],
 "metadata": {
  "kernelspec": {
   "display_name": "venv",
   "language": "python",
   "name": "python3"
  },
  "language_info": {
   "codemirror_mode": {
    "name": "ipython",
    "version": 3
   },
   "file_extension": ".py",
   "mimetype": "text/x-python",
   "name": "python",
   "nbconvert_exporter": "python",
   "pygments_lexer": "ipython3",
   "version": "3.11.7"
  }
 },
 "nbformat": 4,
 "nbformat_minor": 2
}
