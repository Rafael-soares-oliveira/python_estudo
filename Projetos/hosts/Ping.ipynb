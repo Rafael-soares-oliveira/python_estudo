{
 "cells": [
  {
   "cell_type": "markdown",
   "metadata": {},
   "source": [
    "Ping Simples"
   ]
  },
  {
   "cell_type": "code",
   "execution_count": null,
   "metadata": {},
   "outputs": [],
   "source": [
    "import os\n",
    "\n",
    "ip_ou_host = input('Digite o ip ou host a ser verificado: ')\n",
    "\n",
    "os.system('ping -n 4 {}'.format(ip_ou_host))"
   ]
  },
  {
   "cell_type": "markdown",
   "metadata": {},
   "source": [
    "Ping Múltiplo"
   ]
  },
  {
   "cell_type": "code",
   "execution_count": null,
   "metadata": {},
   "outputs": [],
   "source": [
    "import os\n",
    "import time\n",
    "\n",
    "with open('hosts.txt') as file:\n",
    "    dump = file.read()\n",
    "    dump = dump.splitlines()\n",
    "    \n",
    "    for ip in dump:\n",
    "        os.system('ping -n 2 {}'.format(ip))\n",
    "        time.sleep(5)"
   ]
  },
  {
   "cell_type": "code",
   "execution_count": null,
   "metadata": {},
   "outputs": [],
   "source": [
    "import socket\n",
    "import sys\n",
    "\n",
    "def main():\n",
    "    try:\n",
    "        s = socket.socket(socket.AF_INET,socket.SOCK_STREAM,0)\n",
    "        \n",
    "    except socket.error as e:\n",
    "        print('A conexão falhou!')\n",
    "        print('Erro: {}'.format(e))\n",
    "        sys.exit()\n",
    "        \n",
    "    print('Socket criado com sucesso!')\n",
    "    \n",
    "    HostAlvo = input('Digite o Host ou Ip a ser conectado: ')\n",
    "    PortaAlvo = input('Digite a porta a ser conectada: ')\n",
    "    \n",
    "    try:\n",
    "        s.connect((HostAlvo,int(PortaAlvo)))\n",
    "        print(f'Cliente TCP conectado com sucesso no Host:{HostAlvo} e Porta:{PortaAlvo}')\n",
    "        s.shutdown(2)\n",
    "    \n",
    "    except socket.error as e:\n",
    "        print(f'Não foi possível conectar no Host:{HostAlvo} e Porta:{PortaAlvo}')\n",
    "        print('Erro: {}'.format(e))\n",
    "        sys.exit()\n",
    "        \n",
    "if __name__ == '__main__':\n",
    "    main()"
   ]
  },
  {
   "cell_type": "markdown",
   "metadata": {},
   "source": [
    "Cliente UDP"
   ]
  },
  {
   "cell_type": "code",
   "execution_count": null,
   "metadata": {},
   "outputs": [],
   "source": [
    "import socket\n",
    "\n",
    "s = socket.socket(socket.AF_INET, socket.SOCK_DGRAM)\n",
    "print('Cliente Socket criado com sucesso!')\n",
    "host = 'localhost'"
   ]
  }
 ],
 "metadata": {
  "kernelspec": {
   "display_name": "Python 3 (ipykernel)",
   "language": "python",
   "name": "python3"
  },
  "language_info": {
   "codemirror_mode": {
    "name": "ipython",
    "version": 3
   },
   "file_extension": ".py",
   "mimetype": "text/x-python",
   "name": "python",
   "nbconvert_exporter": "python",
   "pygments_lexer": "ipython3",
   "version": "3.10.12"
  }
 },
 "nbformat": 4,
 "nbformat_minor": 4
}
