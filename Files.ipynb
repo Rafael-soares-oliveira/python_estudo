{
 "cells": [
  {
   "cell_type": "markdown",
   "metadata": {},
   "source": [
    "# Files"
   ]
  },
  {
   "cell_type": "markdown",
   "metadata": {},
   "source": [
    "r - Read - open a file, return an error if the specified file does not exist<br>\n",
    "x - Create - create a file, returns an error if the file exist<br>\n",
    "a - Append - open/create a file on write mode, adding text at the end of the line<br>\n",
    "w - Write - open/create a file on write mode, overwriting the text<br>"
   ]
  },
  {
   "cell_type": "code",
   "execution_count": null,
   "metadata": {},
   "outputs": [],
   "source": [
    "with open(\"./arquivos_apoio/files.txt\", \"r\", encoding='utf-8') as file: # Open an existing file on read mode and close after\n",
    "    print(file.read()) # Read the file"
   ]
  },
  {
   "cell_type": "code",
   "execution_count": null,
   "metadata": {},
   "outputs": [],
   "source": [
    "with open(\"./arquivos_apoio/files.txt\", \"r\", encoding='utf-8') as file:\n",
    "    for x in file: # Read an existing file without 'read' command\n",
    "        print(x)"
   ]
  },
  {
   "cell_type": "code",
   "execution_count": null,
   "metadata": {},
   "outputs": [],
   "source": [
    "with open(\"./arquivos_apoio/files.txt\", \"r\", encoding='utf-8') as file:\n",
    "    print(file.read(11)) # Read the first 11 characters of an existing file"
   ]
  },
  {
   "cell_type": "code",
   "execution_count": null,
   "metadata": {},
   "outputs": [],
   "source": [
    "with open(\"./arquivos_apoio/files.txt\", \"r\", encoding='utf-8') as file:\n",
    "    print(file.readline()) # Read each line\n",
    "    print(file.readline())\n",
    "    print(file.readline())"
   ]
  },
  {
   "cell_type": "code",
   "execution_count": null,
   "metadata": {},
   "outputs": [],
   "source": [
    "with open(\"./arquivos_apoio/files.txt\", \"r\", encoding='utf-8') as file:\n",
    "    while len(linha := file.readline()): # Read each line with readline()\n",
    "        print(linha)"
   ]
  },
  {
   "cell_type": "code",
   "execution_count": null,
   "metadata": {},
   "outputs": [],
   "source": [
    "with open(\"./arquivos_apoio/files.txt\", \"r\", encoding='utf-8') as file:\n",
    "    print(file.readlines()) # Each line as a list"
   ]
  },
  {
   "cell_type": "code",
   "execution_count": null,
   "metadata": {},
   "outputs": [],
   "source": [
    "with open(\"./arquivos_apoio/files.txt\", \"a\", encoding='utf-8') as file: # Open an existing file on append mode\n",
    "    file.write(\"\\nLinha 4\")"
   ]
  },
  {
   "cell_type": "markdown",
   "metadata": {},
   "source": [
    "##\n",
    "CSV"
   ]
  },
  {
   "cell_type": "code",
   "execution_count": null,
   "metadata": {},
   "outputs": [],
   "source": [
    "import csv\n",
    "with open('./arquivos_apoio/movies.csv', \"r\", encoding='utf-8', newline='') as file:\n",
    "    reader = csv.reader(file)\n",
    "    for row in reader:\n",
    "        print(row)"
   ]
  },
  {
   "cell_type": "code",
   "execution_count": null,
   "metadata": {},
   "outputs": [],
   "source": [
    "import pandas as pd\n",
    "pd.read_csv('./arquivos_apoio/movies.csv', encoding='utf-8') # Visualmente melhor, porém demora mais"
   ]
  },
  {
   "cell_type": "code",
   "execution_count": null,
   "metadata": {},
   "outputs": [],
   "source": [
    "import csv\n",
    "with open('./arquivos_apoio/files.csv', \"a\", encoding='utf-8', newline='') as file:\n",
    "    writer = csv.writer(file)\n",
    "    writer.writerow(['id', \"Name\"])\n",
    "    writer.writerow([1, \"Linha 1\"])\n",
    "    writer.writerow([2, \"Linha 2\"])\n",
    "    writer.writerow([3, \"Linha 3\"])"
   ]
  },
  {
   "cell_type": "code",
   "execution_count": null,
   "metadata": {},
   "outputs": [],
   "source": [
    "import csv\n",
    "\n",
    "COLUMN_ID = 0\n",
    "COLUMN_NAME = 1\n",
    "\n",
    "with open('./arquivos_apoio/files.csv', \"r\", encoding='utf-8', newline='') as file:\n",
    "    reader = csv.reader(file)\n",
    "    for idx, row in enumerate(reader):\n",
    "        if idx == 0:\n",
    "            continue\n",
    "        print(f'ID: {row[COLUMN_ID]}')\n",
    "        print(f'Name: {row[COLUMN_NAME]}')\n",
    "        print('-')"
   ]
  },
  {
   "cell_type": "code",
   "execution_count": null,
   "metadata": {},
   "outputs": [],
   "source": [
    "import csv\n",
    "\n",
    "with open('./arquivos_apoio/files.csv', \"r\", encoding='utf-8', newline='') as file:\n",
    "    reader = csv.DictReader(file)\n",
    "    for row in reader:\n",
    "        print(f'ID: {row[\"id\"]}')\n",
    "        print(f'Name: {row[\"Name\"]}')\n",
    "        print(f\"{\"\":=>20}\")"
   ]
  }
 ],
 "metadata": {
  "kernelspec": {
   "display_name": "venv",
   "language": "python",
   "name": "python3"
  },
  "language_info": {
   "codemirror_mode": {
    "name": "ipython",
    "version": 3
   },
   "file_extension": ".py",
   "mimetype": "text/x-python",
   "name": "python",
   "nbconvert_exporter": "python",
   "pygments_lexer": "ipython3",
   "version": "3.12.3"
  }
 },
 "nbformat": 4,
 "nbformat_minor": 2
}
